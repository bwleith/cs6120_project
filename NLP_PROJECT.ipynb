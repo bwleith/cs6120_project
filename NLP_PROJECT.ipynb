{
  "cells": [
    {
      "cell_type": "code",
      "execution_count": 12,
      "metadata": {
        "colab": {
          "base_uri": "https://localhost:8080/"
        },
        "id": "IDMBYinBxTGg",
        "outputId": "3ec08a3d-2026-416e-cdb7-a48804c0a405"
      },
      "outputs": [
        {
          "name": "stderr",
          "output_type": "stream",
          "text": [
            "[nltk_data] Downloading package omw-1.4 to\n",
            "[nltk_data]     /Users/williamleith/nltk_data...\n",
            "[nltk_data]   Package omw-1.4 is already up-to-date!\n",
            "[nltk_data] Downloading package stopwords to\n",
            "[nltk_data]     /Users/williamleith/nltk_data...\n",
            "[nltk_data]   Package stopwords is already up-to-date!\n",
            "[nltk_data] Downloading package wordnet to\n",
            "[nltk_data]     /Users/williamleith/nltk_data...\n",
            "[nltk_data]   Package wordnet is already up-to-date!\n",
            "[nltk_data] Downloading package words to\n",
            "[nltk_data]     /Users/williamleith/nltk_data...\n",
            "[nltk_data]   Package words is already up-to-date!\n"
          ]
        },
        {
          "data": {
            "text/plain": [
              "True"
            ]
          },
          "execution_count": 12,
          "metadata": {},
          "output_type": "execute_result"
        }
      ],
      "source": [
        "import numpy as np\n",
        "import pandas as pd\n",
        "import seaborn as sns\n",
        "import matplotlib.pyplot as plt\n",
        "import string\n",
        "import re\n",
        "import tensorflow as tf \n",
        "\n",
        "import string\n",
        "import nltk\n",
        "from nltk.corpus import stopwords\n",
        "from nltk.stem import PorterStemmer\n",
        "from nltk.stem import WordNetLemmatizer\n",
        "import re\n",
        "\n",
        "import warnings\n",
        "warnings.filterwarnings('ignore')\n",
        "from nltk.corpus import stopwords\n",
        "from sklearn.model_selection import train_test_split\n",
        "from sklearn.svm import SVR\n",
        "from sklearn.multioutput import MultiOutputRegressor\n",
        "from sklearn.feature_extraction.text import TfidfVectorizer\n",
        "from sklearn.metrics import mean_squared_error as rmse\n",
        "from sklearn.model_selection import GridSearchCV\n",
        "nltk.download('omw-1.4')\n",
        "nltk.download('stopwords')\n",
        "nltk.download('wordnet')\n",
        "nltk.download('words')"
      ]
    },
    {
      "cell_type": "markdown",
      "metadata": {
        "id": "r5E_tZt6xTGh"
      },
      "source": [
        "### 1. Importing the data: \n",
        "We will be using the Feedback Prize dataset from kaggle. The dataset contains small 2-3 sentences and their relative vocabulary and grammar scores.\n",
        "\n",
        "The dataset contains small essays written by 8th-12th grade English language learners. The essays have been scored according to the analytic measures like vocabulary and grammar. Each measure represents a component of proficiency in essay writing, with greater scores corresponding to greater proficiency in that measure. The scores range from 1.0 to 5.0 in increments of 0.5. We are going to build a model to predict the score for the essays given in the test set."
      ]
    },
    {
      "cell_type": "code",
      "execution_count": 13,
      "metadata": {
        "colab": {
          "base_uri": "https://localhost:8080/",
          "height": 206
        },
        "id": "IITngTQaxTGi",
        "outputId": "0d547c4c-dee3-4c45-dcbb-792ab20ddc7a"
      },
      "outputs": [
        {
          "data": {
            "text/html": [
              "<div>\n",
              "<style scoped>\n",
              "    .dataframe tbody tr th:only-of-type {\n",
              "        vertical-align: middle;\n",
              "    }\n",
              "\n",
              "    .dataframe tbody tr th {\n",
              "        vertical-align: top;\n",
              "    }\n",
              "\n",
              "    .dataframe thead th {\n",
              "        text-align: right;\n",
              "    }\n",
              "</style>\n",
              "<table border=\"1\" class=\"dataframe\">\n",
              "  <thead>\n",
              "    <tr style=\"text-align: right;\">\n",
              "      <th></th>\n",
              "      <th>text_id</th>\n",
              "      <th>full_text</th>\n",
              "      <th>cohesion</th>\n",
              "      <th>syntax</th>\n",
              "      <th>vocabulary</th>\n",
              "      <th>phraseology</th>\n",
              "      <th>grammar</th>\n",
              "      <th>conventions</th>\n",
              "    </tr>\n",
              "  </thead>\n",
              "  <tbody>\n",
              "    <tr>\n",
              "      <th>0</th>\n",
              "      <td>0016926B079C</td>\n",
              "      <td>I think that students would benefit from learn...</td>\n",
              "      <td>3.5</td>\n",
              "      <td>3.5</td>\n",
              "      <td>3.0</td>\n",
              "      <td>3.0</td>\n",
              "      <td>4.0</td>\n",
              "      <td>3.0</td>\n",
              "    </tr>\n",
              "    <tr>\n",
              "      <th>1</th>\n",
              "      <td>0022683E9EA5</td>\n",
              "      <td>When a problem is a change you have to let it ...</td>\n",
              "      <td>2.5</td>\n",
              "      <td>2.5</td>\n",
              "      <td>3.0</td>\n",
              "      <td>2.0</td>\n",
              "      <td>2.0</td>\n",
              "      <td>2.5</td>\n",
              "    </tr>\n",
              "    <tr>\n",
              "      <th>2</th>\n",
              "      <td>00299B378633</td>\n",
              "      <td>Dear, Principal\\n\\nIf u change the school poli...</td>\n",
              "      <td>3.0</td>\n",
              "      <td>3.5</td>\n",
              "      <td>3.0</td>\n",
              "      <td>3.0</td>\n",
              "      <td>3.0</td>\n",
              "      <td>2.5</td>\n",
              "    </tr>\n",
              "    <tr>\n",
              "      <th>3</th>\n",
              "      <td>003885A45F42</td>\n",
              "      <td>The best time in life is when you become yours...</td>\n",
              "      <td>4.5</td>\n",
              "      <td>4.5</td>\n",
              "      <td>4.5</td>\n",
              "      <td>4.5</td>\n",
              "      <td>4.0</td>\n",
              "      <td>5.0</td>\n",
              "    </tr>\n",
              "    <tr>\n",
              "      <th>4</th>\n",
              "      <td>0049B1DF5CCC</td>\n",
              "      <td>Small act of kindness can impact in other peop...</td>\n",
              "      <td>2.5</td>\n",
              "      <td>3.0</td>\n",
              "      <td>3.0</td>\n",
              "      <td>3.0</td>\n",
              "      <td>2.5</td>\n",
              "      <td>2.5</td>\n",
              "    </tr>\n",
              "  </tbody>\n",
              "</table>\n",
              "</div>"
            ],
            "text/plain": [
              "        text_id                                          full_text  cohesion  \\\n",
              "0  0016926B079C  I think that students would benefit from learn...       3.5   \n",
              "1  0022683E9EA5  When a problem is a change you have to let it ...       2.5   \n",
              "2  00299B378633  Dear, Principal\\n\\nIf u change the school poli...       3.0   \n",
              "3  003885A45F42  The best time in life is when you become yours...       4.5   \n",
              "4  0049B1DF5CCC  Small act of kindness can impact in other peop...       2.5   \n",
              "\n",
              "   syntax  vocabulary  phraseology  grammar  conventions  \n",
              "0     3.5         3.0          3.0      4.0          3.0  \n",
              "1     2.5         3.0          2.0      2.0          2.5  \n",
              "2     3.5         3.0          3.0      3.0          2.5  \n",
              "3     4.5         4.5          4.5      4.0          5.0  \n",
              "4     3.0         3.0          3.0      2.5          2.5  "
            ]
          },
          "execution_count": 13,
          "metadata": {},
          "output_type": "execute_result"
        }
      ],
      "source": [
        "df = pd.read_csv('./train.csv')\n",
        "df.head()"
      ]
    },
    {
      "cell_type": "markdown",
      "metadata": {
        "id": "bTONu7EFxTGi"
      },
      "source": [
        "### 2. Visualizing the data:"
      ]
    },
    {
      "cell_type": "code",
      "execution_count": 14,
      "metadata": {
        "colab": {
          "base_uri": "https://localhost:8080/",
          "height": 443
        },
        "id": "DJX2RAp6xTGi",
        "outputId": "b79e0b05-b876-428a-9063-b80f8e0a4986"
      },
      "outputs": [
        {
          "data": {
            "image/png": "[encoded data removed]",
            "text/plain": [
              "<Figure size 1080x432 with 2 Axes>"
            ]
          },
          "metadata": {
            "needs_background": "light"
          },
          "output_type": "display_data"
        }
      ],
      "source": [
        "features = ['vocabulary', 'grammar']\n",
        "target = df[features]\n",
        "fig, axes = plt.subplots(2, len(features)//2, figsize=(15,6))\n",
        "\n",
        "for i, feature in enumerate(features):\n",
        "    ax = axes.flat[i]\n",
        "    sns.histplot(x=feature, data=df, linewidth=1.25, alpha=1, ax=ax, zorder=2)\n",
        "    ax.set_title(feature)\n",
        "    ax.set(xlabel=None, ylabel=None)\n",
        "    \n",
        "fig.suptitle('Output Variables')\n",
        "plt.tight_layout()\n",
        "plt.show()"
      ]
    },
    {
      "cell_type": "markdown",
      "metadata": {
        "id": "kp-Osju9xTGj"
      },
      "source": [
        "### 3. Preprocessing the text data:"
      ]
    },
    {
      "cell_type": "code",
      "execution_count": 15,
      "metadata": {
        "id": "YZUP0c7VxTGj"
      },
      "outputs": [],
      "source": [
        "import nltk\n",
        "from nltk.corpus import stopwords\n",
        "stopword = nltk.corpus.stopwords.words('english')\n",
        "wn = nltk.WordNetLemmatizer()\n",
        "ps = nltk.PorterStemmer()\n",
        "words = set(nltk.corpus.words.words())\n",
        "\n",
        "def clean_text(text) : \n",
        "    text = text.lower()\n",
        "    text = re.sub(r'https?://\\S+|www\\.\\S+','', text)\n",
        "    text = re.sub(r'@[0-9a-zA-Z]*\\W+',' ' , text)\n",
        "    text = re.sub(r'\\d+', ' ', text)\n",
        "    text = re.sub(r'\\#', ' ', text)\n",
        "    text = re.sub(r'\\'', ' ', text)\n",
        "        \n",
        "    text_links_removed = \"\".join([char for char in text if char not in string.punctuation])\n",
        "    text_cleaned = \" \".join([word for word in re.split('\\W+', text_links_removed)\n",
        "        if word not in stopword])\n",
        "    text = \" \".join([wn.lemmatize(word) for word in re.split('\\W+', text_cleaned)])\n",
        "    return text\n",
        "\n",
        "df['full_text'] = df['full_text'].apply(lambda text: clean_text(text))"
      ]
    },
    {
      "cell_type": "code",
      "execution_count": 16,
      "metadata": {
        "colab": {
          "base_uri": "https://localhost:8080/",
          "height": 112
        },
        "id": "_yRBm11XxTGj",
        "outputId": "9e452730-6861-4e45-c079-4bde516264dc"
      },
      "outputs": [
        {
          "data": {
            "text/html": [
              "<style type=\"text/css\">\n",
              "#T_bc7e6_row0_col0, #T_bc7e6_row1_col1 {\n",
              "  background-color: #b40426;\n",
              "  color: #f1f1f1;\n",
              "}\n",
              "#T_bc7e6_row0_col1, #T_bc7e6_row1_col0 {\n",
              "  background-color: #3b4cc0;\n",
              "  color: #f1f1f1;\n",
              "}\n",
              "</style>\n",
              "<table id=\"T_bc7e6\">\n",
              "  <thead>\n",
              "    <tr>\n",
              "      <th class=\"blank level0\" >&nbsp;</th>\n",
              "      <th id=\"T_bc7e6_level0_col0\" class=\"col_heading level0 col0\" >vocabulary</th>\n",
              "      <th id=\"T_bc7e6_level0_col1\" class=\"col_heading level0 col1\" >grammar</th>\n",
              "    </tr>\n",
              "  </thead>\n",
              "  <tbody>\n",
              "    <tr>\n",
              "      <th id=\"T_bc7e6_level0_row0\" class=\"row_heading level0 row0\" >vocabulary</th>\n",
              "      <td id=\"T_bc7e6_row0_col0\" class=\"data row0 col0\" >1.000000</td>\n",
              "      <td id=\"T_bc7e6_row0_col1\" class=\"data row0 col1\" >0.654852</td>\n",
              "    </tr>\n",
              "    <tr>\n",
              "      <th id=\"T_bc7e6_level0_row1\" class=\"row_heading level0 row1\" >grammar</th>\n",
              "      <td id=\"T_bc7e6_row1_col0\" class=\"data row1 col0\" >0.654852</td>\n",
              "      <td id=\"T_bc7e6_row1_col1\" class=\"data row1 col1\" >1.000000</td>\n",
              "    </tr>\n",
              "  </tbody>\n",
              "</table>\n"
            ],
            "text/plain": [
              "<pandas.io.formats.style.Styler at 0x29ad036d0>"
            ]
          },
          "execution_count": 16,
          "metadata": {},
          "output_type": "execute_result"
        }
      ],
      "source": [
        "# !pip install jinja2\n",
        "corr = target.corr()\n",
        "corr.style.background_gradient(cmap='coolwarm')"
      ]
    },
    {
      "cell_type": "markdown",
      "metadata": {
        "id": "2CTlg8BbxTGj"
      },
      "source": [
        "### 4. Finding the frequencies, And Splitting the data to train and test:"
      ]
    },
    {
      "cell_type": "code",
      "execution_count": 17,
      "metadata": {
        "colab": {
          "base_uri": "https://localhost:8080/"
        },
        "id": "gIXLSOQ9xTGj",
        "outputId": "88a15a57-6edc-4151-8792-523e989d958f"
      },
      "outputs": [
        {
          "name": "stdout",
          "output_type": "stream",
          "text": [
            "['abandon' 'abandoned' 'abaut' 'abble' 'abc']\n",
            "shape of vectorized train data: (3128, 8405)\n",
            "shape of vectorized test data:  (783, 8405)\n"
          ]
        }
      ],
      "source": [
        "tfidf = TfidfVectorizer(max_df=0.98, min_df=2, max_features=10000)\n",
        "X = tfidf.fit_transform(df['full_text'])\n",
        "\n",
        "y = target\n",
        "\n",
        "X_train, X_test, y_train, y_test = train_test_split(X,  y, test_size = 0.20, random_state=42)\n",
        "\n",
        "print(tfidf.get_feature_names_out()[:5])\n",
        "print(\"shape of vectorized train data:\",X_train.shape)\n",
        "print(\"shape of vectorized test data: \", X_test.shape)"
      ]
    },
    {
      "cell_type": "markdown",
      "metadata": {
        "id": "nFi0_WGCxTGj"
      },
      "source": [
        "### 5a. SVM Model:"
      ]
    },
    {
      "cell_type": "code",
      "execution_count": null,
      "metadata": {
        "id": "KgfUIUyfxTGk",
        "outputId": "b495e487-8dcf-4ff4-cdde-3c049adc8001"
      },
      "outputs": [
        {
          "name": "stdout",
          "output_type": "stream",
          "text": [
            "0.8999762422574491\n"
          ]
        }
      ],
      "source": [
        "svr = SVR()\n",
        "svm_model = MultiOutputRegressor(svr)\n",
        "svm_model.fit(X_train, y_train)\n",
        "print(svm_model.score(X_train, y_train))"
      ]
    },
    {
      "cell_type": "code",
      "execution_count": null,
      "metadata": {
        "id": "DzkLsq1uxTGk",
        "outputId": "37751499-0d01-4534-eb94-0c01fd600355"
      },
      "outputs": [
        {
          "name": "stdout",
          "output_type": "stream",
          "text": [
            "MSE for SVM regressor: 0.3128996998251533\n",
            "RMSE for LSTM NN (vocabulary): 0.24888269090634108\n",
            "RMSE for LSTM NN (grammar): 0.3769167087439656\n"
          ]
        }
      ],
      "source": [
        "y_pred_svm = svm_model.predict(X_test)\n",
        "# Evaluate the regressor\n",
        "svm_root_mean_squared_error = rmse(y_test, y_pred_svm)\n",
        "print(f'MSE for SVM regressor: {svm_root_mean_squared_error}')\n",
        "\n",
        "print(f'''RMSE for LSTM NN (vocabulary): {rmse(y_test['vocabulary'], y_pred_svm[:,0])}''')\n",
        "\n",
        "print(f'''RMSE for LSTM NN (grammar): {rmse(y_test['grammar'], y_pred_svm[:,1])}''')"
      ]
    },
    {
      "cell_type": "markdown",
      "metadata": {
        "id": "tOYOVIX2xTGk"
      },
      "source": [
        "### 5b. Neural Network Model (no LSTM)\n",
        "\n",
        "#### a. build the model"
      ]
    },
    {
      "cell_type": "code",
      "execution_count": null,
      "metadata": {
        "id": "oGaxfjjlxTGk"
      },
      "outputs": [],
      "source": [
        "import tensorflow as tf\n",
        "\n",
        "tf.random.set_seed(42)\n",
        "\n",
        "\n",
        "# nonlinear model (without LSTM)\n",
        "def build_nn_model(X):\n",
        "\n",
        "  # layer 1 : input layer\n",
        "  inp = tf.keras.Input((X.shape[1],))\n",
        "\n",
        "  # dense layer, high regularization parameter, relu activation\n",
        "  x = tf.keras.layers.Dense(units=1024, activation='relu', kernel_regularizer=tf.keras.regularizers.L2(0.1))(inp)\n",
        "\n",
        "  # large dropout layer\n",
        "  x = tf.keras.layers.Dropout(0.7)(x)\n",
        "\n",
        "  # dense layer with slightly lower regularization parameter and relu activation\n",
        "  x = tf.keras.layers.Dense(units=512, activation='relu', kernel_regularizer=tf.keras.regularizers.L2(0.08))(x)\n",
        "\n",
        "  # another dropout layer\n",
        "  x = tf.keras.layers.Dropout(0.6)(x)\n",
        "\n",
        "  # dense layer with smaller regularization parameter and relu activation\n",
        "  x = tf.keras.layers.Dense(units=256, activation='relu', kernel_regularizer=tf.keras.regularizers.L2(0.05))(x)\n",
        "\n",
        "  # another dropout layer\n",
        "  x = tf.keras.layers.Dropout(0.5)(x)\n",
        "\n",
        "  # dense layer with the same regularization paramter and relu activation\n",
        "  x = tf.keras.layers.Dense(units=128, activation='relu', kernel_regularizer=tf.keras.regularizers.L2(0.05))(x)\n",
        "\n",
        "  # one last dropout layer\n",
        "  x = tf.keras.layers.Dropout(0.4)(x)\n",
        "\n",
        "  predictions = tf.keras.layers.Dense(units=1, activation=\"relu\", name=\"predictions\")(x)\n",
        "\n",
        "  model = tf.keras.Model(inputs=inp, outputs=predictions)\n",
        "\n",
        "  model.compile(loss=\"mean_squared_error\", optimizer=\"adam\", metrics=tf.keras.metrics.RootMeanSquaredError())\n",
        "\n",
        "  return model"
      ]
    },
    {
      "cell_type": "markdown",
      "metadata": {
        "id": "sNFhLXnTxTGk"
      },
      "source": [
        "#### b. fit the model on the training data"
      ]
    },
    {
      "cell_type": "code",
      "execution_count": null,
      "metadata": {
        "id": "fIUkbd4xxTGk",
        "outputId": "3265a964-b327-40e0-987d-f3d9863f764f"
      },
      "outputs": [
        {
          "name": "stdout",
          "output_type": "stream",
          "text": [
            "Epoch 1/100\n"
          ]
        },
        {
          "name": "stderr",
          "output_type": "stream",
          "text": [
            "2022-12-04 23:54:18.421170: I tensorflow/core/grappler/optimizers/custom_graph_optimizer_registry.cc:114] Plugin optimizer for device_type GPU is enabled.\n"
          ]
        },
        {
          "name": "stdout",
          "output_type": "stream",
          "text": [
            "49/49 [==============================] - ETA: 0s - loss: 64.5826 - root_mean_squared_error: 1.5489"
          ]
        },
        {
          "name": "stderr",
          "output_type": "stream",
          "text": [
            "2022-12-04 23:54:22.256353: I tensorflow/core/grappler/optimizers/custom_graph_optimizer_registry.cc:114] Plugin optimizer for device_type GPU is enabled.\n"
          ]
        },
        {
          "name": "stdout",
          "output_type": "stream",
          "text": [
            "49/49 [==============================] - 5s 82ms/step - loss: 64.5826 - root_mean_squared_error: 1.5489 - val_loss: 10.7094 - val_root_mean_squared_error: 0.8162\n",
            "Epoch 2/100\n",
            "49/49 [==============================] - 3s 55ms/step - loss: 5.0707 - root_mean_squared_error: 0.6868 - val_loss: 2.6815 - val_root_mean_squared_error: 0.8248\n",
            "Epoch 3/100\n",
            "49/49 [==============================] - 3s 52ms/step - loss: 1.7966 - root_mean_squared_error: 0.6886 - val_loss: 1.5215 - val_root_mean_squared_error: 0.8121\n",
            "Epoch 4/100\n",
            "49/49 [==============================] - 3s 56ms/step - loss: 1.1601 - root_mean_squared_error: 0.7002 - val_loss: 1.1716 - val_root_mean_squared_error: 0.8033\n",
            "Epoch 5/100\n",
            "49/49 [==============================] - 3s 64ms/step - loss: 0.9442 - root_mean_squared_error: 0.7097 - val_loss: 1.0036 - val_root_mean_squared_error: 0.7933\n",
            "Epoch 6/100\n",
            "49/49 [==============================] - 3s 61ms/step - loss: 0.8238 - root_mean_squared_error: 0.7116 - val_loss: 1.0023 - val_root_mean_squared_error: 0.8581\n",
            "Epoch 7/100\n",
            "49/49 [==============================] - 3s 58ms/step - loss: 0.7494 - root_mean_squared_error: 0.7149 - val_loss: 0.8327 - val_root_mean_squared_error: 0.7912\n",
            "Epoch 8/100\n",
            "49/49 [==============================] - 3s 59ms/step - loss: 0.7090 - root_mean_squared_error: 0.7224 - val_loss: 0.7712 - val_root_mean_squared_error: 0.7782\n",
            "Epoch 9/100\n",
            "49/49 [==============================] - 3s 59ms/step - loss: 0.6661 - root_mean_squared_error: 0.7205 - val_loss: 0.7632 - val_root_mean_squared_error: 0.7971\n",
            "Epoch 10/100\n",
            "49/49 [==============================] - 3s 59ms/step - loss: 0.6269 - root_mean_squared_error: 0.7147 - val_loss: 0.6632 - val_root_mean_squared_error: 0.7437\n",
            "Epoch 11/100\n",
            "49/49 [==============================] - 2s 48ms/step - loss: 0.6155 - root_mean_squared_error: 0.7188 - val_loss: 0.8233 - val_root_mean_squared_error: 0.8603\n",
            "Epoch 12/100\n",
            "49/49 [==============================] - 3s 52ms/step - loss: 0.6022 - root_mean_squared_error: 0.7226 - val_loss: 0.5956 - val_root_mean_squared_error: 0.7191\n",
            "Epoch 13/100\n",
            "49/49 [==============================] - 2s 51ms/step - loss: 0.5796 - root_mean_squared_error: 0.7154 - val_loss: 0.7023 - val_root_mean_squared_error: 0.8027\n",
            "Epoch 14/100\n",
            "49/49 [==============================] - 3s 54ms/step - loss: 0.5746 - root_mean_squared_error: 0.7186 - val_loss: 0.5600 - val_root_mean_squared_error: 0.7062\n",
            "Epoch 15/100\n",
            "49/49 [==============================] - 3s 52ms/step - loss: 0.5644 - root_mean_squared_error: 0.7157 - val_loss: 0.6039 - val_root_mean_squared_error: 0.7459\n",
            "Epoch 16/100\n",
            "49/49 [==============================] - 3s 51ms/step - loss: 0.5624 - root_mean_squared_error: 0.7194 - val_loss: 0.5986 - val_root_mean_squared_error: 0.7468\n",
            "Epoch 17/100\n",
            "49/49 [==============================] - 3s 52ms/step - loss: 0.5577 - root_mean_squared_error: 0.7191 - val_loss: 0.6485 - val_root_mean_squared_error: 0.7831\n",
            "Epoch 18/100\n",
            "49/49 [==============================] - 3s 52ms/step - loss: 0.5554 - root_mean_squared_error: 0.7204 - val_loss: 0.6346 - val_root_mean_squared_error: 0.7775\n",
            "Epoch 19/100\n",
            "49/49 [==============================] - 3s 53ms/step - loss: 0.5383 - root_mean_squared_error: 0.7123 - val_loss: 0.5471 - val_root_mean_squared_error: 0.7194\n",
            "Epoch 20/100\n",
            "49/49 [==============================] - 3s 59ms/step - loss: 0.5323 - root_mean_squared_error: 0.7101 - val_loss: 0.5258 - val_root_mean_squared_error: 0.7037\n",
            "Epoch 21/100\n",
            "49/49 [==============================] - 3s 54ms/step - loss: 0.5323 - root_mean_squared_error: 0.7111 - val_loss: 0.5639 - val_root_mean_squared_error: 0.7357\n",
            "Epoch 22/100\n",
            "49/49 [==============================] - 3s 60ms/step - loss: 0.5329 - root_mean_squared_error: 0.7131 - val_loss: 0.5455 - val_root_mean_squared_error: 0.7217\n",
            "Epoch 23/100\n",
            "49/49 [==============================] - 3s 58ms/step - loss: 0.5246 - root_mean_squared_error: 0.7091 - val_loss: 0.5325 - val_root_mean_squared_error: 0.7147\n",
            "Epoch 24/100\n",
            "49/49 [==============================] - 3s 59ms/step - loss: 0.5275 - root_mean_squared_error: 0.7119 - val_loss: 0.5169 - val_root_mean_squared_error: 0.7037\n",
            "Epoch 25/100\n",
            "49/49 [==============================] - 3s 56ms/step - loss: 0.5211 - root_mean_squared_error: 0.7089 - val_loss: 0.5384 - val_root_mean_squared_error: 0.7208\n",
            "Epoch 26/100\n",
            "49/49 [==============================] - 3s 66ms/step - loss: 0.5247 - root_mean_squared_error: 0.7115 - val_loss: 0.5440 - val_root_mean_squared_error: 0.7257\n",
            "Epoch 27/100\n",
            "49/49 [==============================] - 3s 59ms/step - loss: 0.5250 - root_mean_squared_error: 0.7131 - val_loss: 0.5126 - val_root_mean_squared_error: 0.7033\n",
            "Epoch 28/100\n",
            "49/49 [==============================] - 3s 56ms/step - loss: 0.5213 - root_mean_squared_error: 0.7108 - val_loss: 0.5154 - val_root_mean_squared_error: 0.7073\n",
            "Epoch 29/100\n",
            "49/49 [==============================] - 3s 59ms/step - loss: 0.5225 - root_mean_squared_error: 0.7118 - val_loss: 0.5659 - val_root_mean_squared_error: 0.7428\n",
            "Epoch 30/100\n",
            "49/49 [==============================] - 3s 59ms/step - loss: 0.5249 - root_mean_squared_error: 0.7138 - val_loss: 0.5363 - val_root_mean_squared_error: 0.7226\n",
            "Epoch 31/100\n",
            "49/49 [==============================] - 3s 53ms/step - loss: 0.5235 - root_mean_squared_error: 0.7132 - val_loss: 0.5138 - val_root_mean_squared_error: 0.7060\n",
            "Epoch 32/100\n",
            "49/49 [==============================] - 2s 48ms/step - loss: 0.5133 - root_mean_squared_error: 0.7069 - val_loss: 0.5115 - val_root_mean_squared_error: 0.7059\n",
            "Epoch 33/100\n",
            "49/49 [==============================] - 3s 54ms/step - loss: 0.5166 - root_mean_squared_error: 0.7095 - val_loss: 0.5056 - val_root_mean_squared_error: 0.7010\n",
            "Epoch 34/100\n",
            "49/49 [==============================] - 2s 44ms/step - loss: 0.5118 - root_mean_squared_error: 0.7070 - val_loss: 0.5075 - val_root_mean_squared_error: 0.7043\n",
            "Epoch 35/100\n",
            "49/49 [==============================] - 3s 54ms/step - loss: 0.5232 - root_mean_squared_error: 0.7149 - val_loss: 0.5081 - val_root_mean_squared_error: 0.7038\n",
            "Epoch 36/100\n",
            "49/49 [==============================] - 3s 55ms/step - loss: 0.5180 - root_mean_squared_error: 0.7109 - val_loss: 0.5689 - val_root_mean_squared_error: 0.7458\n",
            "Epoch 37/100\n",
            "49/49 [==============================] - 2s 49ms/step - loss: 0.5182 - root_mean_squared_error: 0.7104 - val_loss: 0.5034 - val_root_mean_squared_error: 0.7011\n",
            "Epoch 38/100\n",
            "49/49 [==============================] - 3s 57ms/step - loss: 0.5146 - root_mean_squared_error: 0.7094 - val_loss: 0.5460 - val_root_mean_squared_error: 0.7317\n",
            "Epoch 39/100\n",
            "49/49 [==============================] - 2s 51ms/step - loss: 0.5126 - root_mean_squared_error: 0.7082 - val_loss: 0.5101 - val_root_mean_squared_error: 0.7066\n",
            "Epoch 40/100\n",
            "49/49 [==============================] - 3s 51ms/step - loss: 0.5125 - root_mean_squared_error: 0.7080 - val_loss: 0.5174 - val_root_mean_squared_error: 0.7119\n",
            "Epoch 41/100\n",
            "49/49 [==============================] - 2s 45ms/step - loss: 0.5155 - root_mean_squared_error: 0.7105 - val_loss: 0.5014 - val_root_mean_squared_error: 0.7004\n",
            "Epoch 42/100\n",
            "49/49 [==============================] - 3s 51ms/step - loss: 0.5183 - root_mean_squared_error: 0.7122 - val_loss: 0.5138 - val_root_mean_squared_error: 0.7086\n",
            "Epoch 43/100\n",
            "49/49 [==============================] - 3s 53ms/step - loss: 0.5139 - root_mean_squared_error: 0.7094 - val_loss: 0.5183 - val_root_mean_squared_error: 0.7128\n",
            "Epoch 44/100\n",
            "49/49 [==============================] - 3s 60ms/step - loss: 0.5118 - root_mean_squared_error: 0.7084 - val_loss: 0.5175 - val_root_mean_squared_error: 0.7120\n",
            "Epoch 45/100\n",
            "49/49 [==============================] - 3s 54ms/step - loss: 0.5146 - root_mean_squared_error: 0.7098 - val_loss: 0.5274 - val_root_mean_squared_error: 0.7194\n",
            "Epoch 46/100\n",
            "49/49 [==============================] - 3s 56ms/step - loss: 0.5132 - root_mean_squared_error: 0.7096 - val_loss: 0.5051 - val_root_mean_squared_error: 0.7038\n",
            "Epoch 47/100\n",
            "49/49 [==============================] - 3s 56ms/step - loss: 0.5113 - root_mean_squared_error: 0.7088 - val_loss: 0.5056 - val_root_mean_squared_error: 0.7052\n",
            "Epoch 48/100\n",
            "49/49 [==============================] - 3s 54ms/step - loss: 0.5106 - root_mean_squared_error: 0.7086 - val_loss: 0.5096 - val_root_mean_squared_error: 0.7076\n",
            "Epoch 49/100\n",
            "49/49 [==============================] - 3s 52ms/step - loss: 0.5051 - root_mean_squared_error: 0.7039 - val_loss: 0.5054 - val_root_mean_squared_error: 0.7041\n",
            "Epoch 50/100\n",
            "49/49 [==============================] - 3s 56ms/step - loss: 0.5109 - root_mean_squared_error: 0.7084 - val_loss: 0.5109 - val_root_mean_squared_error: 0.7086\n",
            "Epoch 51/100\n",
            "49/49 [==============================] - 2s 51ms/step - loss: 0.5096 - root_mean_squared_error: 0.7078 - val_loss: 0.5012 - val_root_mean_squared_error: 0.7021\n",
            "Epoch 52/100\n",
            "49/49 [==============================] - 3s 56ms/step - loss: 0.5071 - root_mean_squared_error: 0.7061 - val_loss: 0.5168 - val_root_mean_squared_error: 0.7128\n",
            "Epoch 53/100\n",
            "49/49 [==============================] - 3s 55ms/step - loss: 0.5116 - root_mean_squared_error: 0.7083 - val_loss: 0.5138 - val_root_mean_squared_error: 0.7095\n",
            "Epoch 54/100\n",
            "49/49 [==============================] - 3s 55ms/step - loss: 0.5095 - root_mean_squared_error: 0.7072 - val_loss: 0.5304 - val_root_mean_squared_error: 0.7230\n",
            "Epoch 55/100\n",
            "49/49 [==============================] - 3s 58ms/step - loss: 0.5103 - root_mean_squared_error: 0.7085 - val_loss: 0.5063 - val_root_mean_squared_error: 0.7051\n",
            "Epoch 56/100\n",
            "49/49 [==============================] - 3s 52ms/step - loss: 0.5112 - root_mean_squared_error: 0.7087 - val_loss: 0.5163 - val_root_mean_squared_error: 0.7123\n",
            "Epoch 57/100\n",
            "49/49 [==============================] - 2s 49ms/step - loss: 0.5083 - root_mean_squared_error: 0.7065 - val_loss: 0.5047 - val_root_mean_squared_error: 0.7037\n",
            "Epoch 58/100\n",
            "49/49 [==============================] - 2s 49ms/step - loss: 0.5105 - root_mean_squared_error: 0.7087 - val_loss: 0.4996 - val_root_mean_squared_error: 0.7011\n",
            "Epoch 59/100\n",
            "49/49 [==============================] - 3s 57ms/step - loss: 0.5079 - root_mean_squared_error: 0.7074 - val_loss: 0.5220 - val_root_mean_squared_error: 0.7174\n",
            "Epoch 60/100\n",
            "49/49 [==============================] - 2s 50ms/step - loss: 0.5100 - root_mean_squared_error: 0.7090 - val_loss: 0.5224 - val_root_mean_squared_error: 0.7181\n",
            "Epoch 61/100\n",
            "49/49 [==============================] - 3s 58ms/step - loss: 0.5129 - root_mean_squared_error: 0.7108 - val_loss: 0.5129 - val_root_mean_squared_error: 0.7108\n",
            "Epoch 62/100\n",
            "49/49 [==============================] - 3s 55ms/step - loss: 0.5065 - root_mean_squared_error: 0.7061 - val_loss: 0.5227 - val_root_mean_squared_error: 0.7172\n",
            "Epoch 63/100\n",
            "49/49 [==============================] - 3s 57ms/step - loss: 0.5056 - root_mean_squared_error: 0.7054 - val_loss: 0.5169 - val_root_mean_squared_error: 0.7137\n",
            "Epoch 64/100\n",
            "49/49 [==============================] - 3s 56ms/step - loss: 0.5095 - root_mean_squared_error: 0.7084 - val_loss: 0.5044 - val_root_mean_squared_error: 0.7055\n",
            "Epoch 65/100\n",
            "49/49 [==============================] - 2s 48ms/step - loss: 0.4994 - root_mean_squared_error: 0.7026 - val_loss: 0.5023 - val_root_mean_squared_error: 0.7046\n",
            "Epoch 66/100\n",
            "49/49 [==============================] - 3s 54ms/step - loss: 0.5090 - root_mean_squared_error: 0.7091 - val_loss: 0.5168 - val_root_mean_squared_error: 0.7149\n",
            "Epoch 67/100\n",
            "49/49 [==============================] - 3s 52ms/step - loss: 0.5089 - root_mean_squared_error: 0.7094 - val_loss: 0.5049 - val_root_mean_squared_error: 0.7063\n",
            "Epoch 68/100\n",
            "49/49 [==============================] - 3s 58ms/step - loss: 0.5088 - root_mean_squared_error: 0.7089 - val_loss: 0.5503 - val_root_mean_squared_error: 0.7375\n",
            "Epoch 69/100\n",
            "49/49 [==============================] - 3s 56ms/step - loss: 0.5065 - root_mean_squared_error: 0.7067 - val_loss: 0.5064 - val_root_mean_squared_error: 0.7068\n",
            "Epoch 70/100\n",
            "49/49 [==============================] - 3s 63ms/step - loss: 0.5044 - root_mean_squared_error: 0.7051 - val_loss: 0.5004 - val_root_mean_squared_error: 0.7019\n",
            "Epoch 71/100\n",
            "49/49 [==============================] - 3s 56ms/step - loss: 0.5085 - root_mean_squared_error: 0.7082 - val_loss: 0.5323 - val_root_mean_squared_error: 0.7253\n",
            "Epoch 72/100\n",
            "49/49 [==============================] - 3s 53ms/step - loss: 0.5045 - root_mean_squared_error: 0.7053 - val_loss: 0.5074 - val_root_mean_squared_error: 0.7076\n",
            "Epoch 73/100\n",
            "49/49 [==============================] - 2s 48ms/step - loss: 0.5065 - root_mean_squared_error: 0.7066 - val_loss: 0.5121 - val_root_mean_squared_error: 0.7100\n",
            "Epoch 74/100\n",
            "49/49 [==============================] - 2s 50ms/step - loss: 0.5099 - root_mean_squared_error: 0.7090 - val_loss: 0.5073 - val_root_mean_squared_error: 0.7074\n",
            "Epoch 75/100\n",
            "49/49 [==============================] - 3s 58ms/step - loss: 0.5040 - root_mean_squared_error: 0.7051 - val_loss: 0.4925 - val_root_mean_squared_error: 0.6963\n",
            "Epoch 76/100\n",
            "49/49 [==============================] - 2s 50ms/step - loss: 0.5018 - root_mean_squared_error: 0.7039 - val_loss: 0.5076 - val_root_mean_squared_error: 0.7087\n",
            "Epoch 77/100\n",
            "49/49 [==============================] - 2s 50ms/step - loss: 0.5033 - root_mean_squared_error: 0.7055 - val_loss: 0.5345 - val_root_mean_squared_error: 0.7272\n",
            "Epoch 78/100\n",
            "49/49 [==============================] - 2s 49ms/step - loss: 0.5102 - root_mean_squared_error: 0.7097 - val_loss: 0.5090 - val_root_mean_squared_error: 0.7091\n",
            "Epoch 79/100\n",
            "49/49 [==============================] - 3s 57ms/step - loss: 0.5061 - root_mean_squared_error: 0.7069 - val_loss: 0.5029 - val_root_mean_squared_error: 0.7044\n",
            "Epoch 80/100\n",
            "49/49 [==============================] - 3s 54ms/step - loss: 0.5072 - root_mean_squared_error: 0.7077 - val_loss: 0.4921 - val_root_mean_squared_error: 0.6970\n",
            "Epoch 81/100\n",
            "49/49 [==============================] - 2s 50ms/step - loss: 0.5026 - root_mean_squared_error: 0.7048 - val_loss: 0.5248 - val_root_mean_squared_error: 0.7207\n",
            "Epoch 82/100\n",
            "49/49 [==============================] - 3s 58ms/step - loss: 0.5066 - root_mean_squared_error: 0.7074 - val_loss: 0.4965 - val_root_mean_squared_error: 0.6997\n",
            "Epoch 83/100\n",
            "49/49 [==============================] - 3s 55ms/step - loss: 0.5043 - root_mean_squared_error: 0.7058 - val_loss: 0.4988 - val_root_mean_squared_error: 0.7014\n",
            "Epoch 84/100\n",
            "49/49 [==============================] - 3s 60ms/step - loss: 0.5036 - root_mean_squared_error: 0.7052 - val_loss: 0.5119 - val_root_mean_squared_error: 0.7110\n",
            "Epoch 85/100\n",
            "49/49 [==============================] - 2s 50ms/step - loss: 0.5025 - root_mean_squared_error: 0.7044 - val_loss: 0.5164 - val_root_mean_squared_error: 0.7145\n",
            "Epoch 86/100\n",
            "49/49 [==============================] - 3s 56ms/step - loss: 0.5083 - root_mean_squared_error: 0.7083 - val_loss: 0.5242 - val_root_mean_squared_error: 0.7201\n",
            "Epoch 87/100\n",
            "49/49 [==============================] - 3s 64ms/step - loss: 0.5033 - root_mean_squared_error: 0.7053 - val_loss: 0.4923 - val_root_mean_squared_error: 0.6964\n",
            "Epoch 88/100\n",
            "49/49 [==============================] - 3s 59ms/step - loss: 0.5089 - root_mean_squared_error: 0.7091 - val_loss: 0.5030 - val_root_mean_squared_error: 0.7049\n",
            "Epoch 89/100\n",
            "49/49 [==============================] - 3s 59ms/step - loss: 0.5059 - root_mean_squared_error: 0.7070 - val_loss: 0.4983 - val_root_mean_squared_error: 0.7013\n",
            "Epoch 90/100\n",
            "49/49 [==============================] - 3s 58ms/step - loss: 0.5034 - root_mean_squared_error: 0.7055 - val_loss: 0.4991 - val_root_mean_squared_error: 0.7022\n",
            "Epoch 91/100\n",
            "49/49 [==============================] - 2s 50ms/step - loss: 0.5068 - root_mean_squared_error: 0.7079 - val_loss: 0.4989 - val_root_mean_squared_error: 0.7025\n",
            "Epoch 92/100\n",
            "49/49 [==============================] - 3s 61ms/step - loss: 0.5057 - root_mean_squared_error: 0.7075 - val_loss: 0.5232 - val_root_mean_squared_error: 0.7201\n",
            "Epoch 93/100\n",
            "49/49 [==============================] - 3s 57ms/step - loss: 0.5026 - root_mean_squared_error: 0.7048 - val_loss: 0.5123 - val_root_mean_squared_error: 0.7114\n",
            "Epoch 94/100\n",
            "49/49 [==============================] - 3s 52ms/step - loss: 0.5034 - root_mean_squared_error: 0.7054 - val_loss: 0.5020 - val_root_mean_squared_error: 0.7042\n",
            "Epoch 95/100\n",
            "49/49 [==============================] - 3s 54ms/step - loss: 0.5010 - root_mean_squared_error: 0.7036 - val_loss: 0.5008 - val_root_mean_squared_error: 0.7037\n",
            "Epoch 96/100\n",
            "49/49 [==============================] - 3s 58ms/step - loss: 0.5045 - root_mean_squared_error: 0.7061 - val_loss: 0.5113 - val_root_mean_squared_error: 0.7103\n",
            "Epoch 97/100\n",
            "49/49 [==============================] - 3s 58ms/step - loss: 0.5040 - root_mean_squared_error: 0.7055 - val_loss: 0.5284 - val_root_mean_squared_error: 0.7230\n",
            "Epoch 98/100\n",
            "49/49 [==============================] - 3s 52ms/step - loss: 0.5026 - root_mean_squared_error: 0.7047 - val_loss: 0.5143 - val_root_mean_squared_error: 0.7137\n",
            "Epoch 99/100\n",
            "49/49 [==============================] - 3s 54ms/step - loss: 0.5045 - root_mean_squared_error: 0.7065 - val_loss: 0.5053 - val_root_mean_squared_error: 0.7066\n",
            "Epoch 100/100\n",
            "49/49 [==============================] - 3s 57ms/step - loss: 0.5028 - root_mean_squared_error: 0.7051 - val_loss: 0.5079 - val_root_mean_squared_error: 0.7092\n"
          ]
        }
      ],
      "source": [
        "# fit the nn model for grammar\n",
        "grammar_nn_model = build_nn_model(X_train.todense())\n",
        "\n",
        "tf.random.set_seed(43)\n",
        "\n",
        "grammar_nn_model_history = grammar_nn_model.fit(X_train.todense(), \n",
        "                                                y_train['grammar'], \n",
        "                                                validation_data = (X_test.todense(), \n",
        "                                                y_test['grammar']), \n",
        "                                                batch_size=64,\n",
        "                                                epochs=100,\n",
        "                                                shuffle=True)"
      ]
    },
    {
      "cell_type": "code",
      "execution_count": null,
      "metadata": {
        "id": "bvfBbHx6xTGk",
        "outputId": "66940732-8688-4bf7-eaf2-89f2fa81f74a"
      },
      "outputs": [
        {
          "name": "stdout",
          "output_type": "stream",
          "text": [
            "Epoch 1/100\n"
          ]
        },
        {
          "name": "stderr",
          "output_type": "stream",
          "text": [
            "2022-12-05 07:56:49.979636: I tensorflow/core/grappler/optimizers/custom_graph_optimizer_registry.cc:114] Plugin optimizer for device_type GPU is enabled.\n"
          ]
        },
        {
          "name": "stdout",
          "output_type": "stream",
          "text": [
            "49/49 [==============================] - ETA: 0s - loss: 65.0134 - root_mean_squared_error: 1.4545"
          ]
        },
        {
          "name": "stderr",
          "output_type": "stream",
          "text": [
            "2022-12-05 07:56:55.051534: I tensorflow/core/grappler/optimizers/custom_graph_optimizer_registry.cc:114] Plugin optimizer for device_type GPU is enabled.\n"
          ]
        },
        {
          "name": "stdout",
          "output_type": "stream",
          "text": [
            "49/49 [==============================] - 6s 98ms/step - loss: 65.0134 - root_mean_squared_error: 1.4545 - val_loss: 11.3927 - val_root_mean_squared_error: 0.9153\n",
            "Epoch 2/100\n",
            "49/49 [==============================] - 3s 54ms/step - loss: 5.4231 - root_mean_squared_error: 0.6846 - val_loss: 2.9532 - val_root_mean_squared_error: 0.8538\n",
            "Epoch 3/100\n",
            "49/49 [==============================] - 3s 61ms/step - loss: 1.9700 - root_mean_squared_error: 0.6922 - val_loss: 1.5449 - val_root_mean_squared_error: 0.7343\n",
            "Epoch 4/100\n",
            "49/49 [==============================] - 3s 57ms/step - loss: 1.2592 - root_mean_squared_error: 0.6979 - val_loss: 1.3688 - val_root_mean_squared_error: 0.8842\n",
            "Epoch 5/100\n",
            "49/49 [==============================] - 3s 59ms/step - loss: 0.9922 - root_mean_squared_error: 0.7056 - val_loss: 1.1777 - val_root_mean_squared_error: 0.8837\n",
            "Epoch 6/100\n",
            "49/49 [==============================] - 3s 56ms/step - loss: 0.8498 - root_mean_squared_error: 0.7095 - val_loss: 0.9673 - val_root_mean_squared_error: 0.8209\n",
            "Epoch 7/100\n",
            "49/49 [==============================] - 3s 58ms/step - loss: 0.7614 - root_mean_squared_error: 0.7112 - val_loss: 0.8153 - val_root_mean_squared_error: 0.7662\n",
            "Epoch 8/100\n",
            "49/49 [==============================] - 3s 53ms/step - loss: 0.7071 - root_mean_squared_error: 0.7142 - val_loss: 0.8717 - val_root_mean_squared_error: 0.8391\n",
            "Epoch 9/100\n",
            "49/49 [==============================] - 3s 62ms/step - loss: 0.6658 - root_mean_squared_error: 0.7163 - val_loss: 0.7548 - val_root_mean_squared_error: 0.7877\n",
            "Epoch 10/100\n",
            "49/49 [==============================] - 3s 54ms/step - loss: 0.6319 - root_mean_squared_error: 0.7142 - val_loss: 0.6889 - val_root_mean_squared_error: 0.7610\n",
            "Epoch 11/100\n",
            "49/49 [==============================] - 3s 58ms/step - loss: 0.6170 - root_mean_squared_error: 0.7198 - val_loss: 0.6501 - val_root_mean_squared_error: 0.7469\n",
            "Epoch 12/100\n",
            "49/49 [==============================] - 3s 57ms/step - loss: 0.5942 - root_mean_squared_error: 0.7179 - val_loss: 0.6429 - val_root_mean_squared_error: 0.7569\n",
            "Epoch 13/100\n",
            "49/49 [==============================] - 3s 62ms/step - loss: 0.5779 - root_mean_squared_error: 0.7163 - val_loss: 0.5985 - val_root_mean_squared_error: 0.7328\n",
            "Epoch 14/100\n",
            "49/49 [==============================] - 3s 56ms/step - loss: 0.5674 - root_mean_squared_error: 0.7151 - val_loss: 0.6183 - val_root_mean_squared_error: 0.7537\n",
            "Epoch 15/100\n",
            "49/49 [==============================] - 3s 53ms/step - loss: 0.5548 - root_mean_squared_error: 0.7128 - val_loss: 0.5530 - val_root_mean_squared_error: 0.7121\n",
            "Epoch 16/100\n",
            "49/49 [==============================] - 3s 54ms/step - loss: 0.5515 - root_mean_squared_error: 0.7145 - val_loss: 0.5795 - val_root_mean_squared_error: 0.7360\n",
            "Epoch 17/100\n",
            "49/49 [==============================] - 3s 59ms/step - loss: 0.5482 - root_mean_squared_error: 0.7160 - val_loss: 0.5659 - val_root_mean_squared_error: 0.7301\n",
            "Epoch 18/100\n",
            "49/49 [==============================] - 3s 51ms/step - loss: 0.5415 - root_mean_squared_error: 0.7143 - val_loss: 0.5760 - val_root_mean_squared_error: 0.7406\n",
            "Epoch 19/100\n",
            "49/49 [==============================] - 3s 54ms/step - loss: 0.5357 - root_mean_squared_error: 0.7132 - val_loss: 0.5453 - val_root_mean_squared_error: 0.7214\n",
            "Epoch 20/100\n",
            "49/49 [==============================] - 3s 55ms/step - loss: 0.5307 - root_mean_squared_error: 0.7112 - val_loss: 0.5140 - val_root_mean_squared_error: 0.6969\n",
            "Epoch 21/100\n",
            "49/49 [==============================] - 3s 52ms/step - loss: 0.5287 - root_mean_squared_error: 0.7114 - val_loss: 0.5151 - val_root_mean_squared_error: 0.7021\n",
            "Epoch 22/100\n",
            "49/49 [==============================] - 3s 58ms/step - loss: 0.5319 - root_mean_squared_error: 0.7151 - val_loss: 0.5483 - val_root_mean_squared_error: 0.7279\n",
            "Epoch 23/100\n",
            "49/49 [==============================] - 3s 58ms/step - loss: 0.5211 - root_mean_squared_error: 0.7093 - val_loss: 0.5086 - val_root_mean_squared_error: 0.6999\n",
            "Epoch 24/100\n",
            "49/49 [==============================] - 3s 59ms/step - loss: 0.5255 - root_mean_squared_error: 0.7134 - val_loss: 0.5536 - val_root_mean_squared_error: 0.7343\n",
            "Epoch 25/100\n",
            "49/49 [==============================] - 3s 58ms/step - loss: 0.5206 - root_mean_squared_error: 0.7107 - val_loss: 0.5049 - val_root_mean_squared_error: 0.6993\n",
            "Epoch 26/100\n",
            "49/49 [==============================] - 3s 59ms/step - loss: 0.5180 - root_mean_squared_error: 0.7094 - val_loss: 0.5185 - val_root_mean_squared_error: 0.7104\n",
            "Epoch 27/100\n",
            "49/49 [==============================] - 3s 65ms/step - loss: 0.5196 - root_mean_squared_error: 0.7110 - val_loss: 0.5427 - val_root_mean_squared_error: 0.7280\n",
            "Epoch 28/100\n",
            "49/49 [==============================] - 3s 64ms/step - loss: 0.5227 - root_mean_squared_error: 0.7136 - val_loss: 0.5148 - val_root_mean_squared_error: 0.7086\n",
            "Epoch 29/100\n",
            "49/49 [==============================] - 3s 58ms/step - loss: 0.5190 - root_mean_squared_error: 0.7113 - val_loss: 0.5287 - val_root_mean_squared_error: 0.7193\n",
            "Epoch 30/100\n",
            "49/49 [==============================] - 3s 56ms/step - loss: 0.5143 - root_mean_squared_error: 0.7092 - val_loss: 0.5325 - val_root_mean_squared_error: 0.7222\n",
            "Epoch 31/100\n",
            "49/49 [==============================] - 3s 61ms/step - loss: 0.5105 - root_mean_squared_error: 0.7064 - val_loss: 0.5024 - val_root_mean_squared_error: 0.7009\n",
            "Epoch 32/100\n",
            "49/49 [==============================] - 3s 57ms/step - loss: 0.5168 - root_mean_squared_error: 0.7116 - val_loss: 0.4996 - val_root_mean_squared_error: 0.6990\n",
            "Epoch 33/100\n",
            "49/49 [==============================] - 3s 63ms/step - loss: 0.5101 - root_mean_squared_error: 0.7071 - val_loss: 0.5101 - val_root_mean_squared_error: 0.7075\n",
            "Epoch 34/100\n",
            "49/49 [==============================] - 3s 62ms/step - loss: 0.5121 - root_mean_squared_error: 0.7090 - val_loss: 0.5078 - val_root_mean_squared_error: 0.7056\n",
            "Epoch 35/100\n",
            "49/49 [==============================] - 3s 60ms/step - loss: 0.5094 - root_mean_squared_error: 0.7072 - val_loss: 0.4998 - val_root_mean_squared_error: 0.6999\n",
            "Epoch 36/100\n",
            "49/49 [==============================] - 3s 58ms/step - loss: 0.5133 - root_mean_squared_error: 0.7095 - val_loss: 0.4962 - val_root_mean_squared_error: 0.6973\n",
            "Epoch 37/100\n",
            "49/49 [==============================] - 3s 57ms/step - loss: 0.5122 - root_mean_squared_error: 0.7091 - val_loss: 0.5147 - val_root_mean_squared_error: 0.7113\n",
            "Epoch 38/100\n",
            "49/49 [==============================] - 3s 53ms/step - loss: 0.5105 - root_mean_squared_error: 0.7086 - val_loss: 0.5034 - val_root_mean_squared_error: 0.7039\n",
            "Epoch 39/100\n",
            "49/49 [==============================] - 3s 62ms/step - loss: 0.5125 - root_mean_squared_error: 0.7097 - val_loss: 0.5081 - val_root_mean_squared_error: 0.7069\n",
            "Epoch 40/100\n",
            "49/49 [==============================] - 3s 62ms/step - loss: 0.5053 - root_mean_squared_error: 0.7051 - val_loss: 0.5082 - val_root_mean_squared_error: 0.7073\n",
            "Epoch 41/100\n",
            "49/49 [==============================] - 3s 59ms/step - loss: 0.5130 - root_mean_squared_error: 0.7104 - val_loss: 0.4940 - val_root_mean_squared_error: 0.6964\n",
            "Epoch 42/100\n",
            "49/49 [==============================] - 2s 51ms/step - loss: 0.5086 - root_mean_squared_error: 0.7070 - val_loss: 0.4983 - val_root_mean_squared_error: 0.6999\n",
            "Epoch 43/100\n",
            "49/49 [==============================] - 3s 56ms/step - loss: 0.5090 - root_mean_squared_error: 0.7083 - val_loss: 0.4956 - val_root_mean_squared_error: 0.6985\n",
            "Epoch 44/100\n",
            "49/49 [==============================] - 3s 57ms/step - loss: 0.5098 - root_mean_squared_error: 0.7091 - val_loss: 0.4991 - val_root_mean_squared_error: 0.7010\n",
            "Epoch 45/100\n",
            "49/49 [==============================] - 3s 52ms/step - loss: 0.5047 - root_mean_squared_error: 0.7046 - val_loss: 0.4955 - val_root_mean_squared_error: 0.6986\n",
            "Epoch 46/100\n",
            "49/49 [==============================] - 3s 54ms/step - loss: 0.5083 - root_mean_squared_error: 0.7082 - val_loss: 0.4947 - val_root_mean_squared_error: 0.6988\n",
            "Epoch 47/100\n",
            "49/49 [==============================] - 3s 58ms/step - loss: 0.5104 - root_mean_squared_error: 0.7097 - val_loss: 0.4969 - val_root_mean_squared_error: 0.6996\n",
            "Epoch 48/100\n",
            "49/49 [==============================] - 3s 61ms/step - loss: 0.5076 - root_mean_squared_error: 0.7076 - val_loss: 0.5032 - val_root_mean_squared_error: 0.7047\n",
            "Epoch 49/100\n",
            "49/49 [==============================] - 3s 58ms/step - loss: 0.5065 - root_mean_squared_error: 0.7067 - val_loss: 0.5030 - val_root_mean_squared_error: 0.7043\n",
            "Epoch 50/100\n",
            "49/49 [==============================] - 2s 49ms/step - loss: 0.5063 - root_mean_squared_error: 0.7071 - val_loss: 0.5047 - val_root_mean_squared_error: 0.7063\n",
            "Epoch 51/100\n",
            "49/49 [==============================] - 3s 64ms/step - loss: 0.5051 - root_mean_squared_error: 0.7061 - val_loss: 0.4996 - val_root_mean_squared_error: 0.7025\n",
            "Epoch 52/100\n",
            "49/49 [==============================] - 3s 56ms/step - loss: 0.5059 - root_mean_squared_error: 0.7071 - val_loss: 0.4914 - val_root_mean_squared_error: 0.6968\n",
            "Epoch 53/100\n",
            "49/49 [==============================] - 3s 58ms/step - loss: 0.5032 - root_mean_squared_error: 0.7056 - val_loss: 0.4925 - val_root_mean_squared_error: 0.6977\n",
            "Epoch 54/100\n",
            "49/49 [==============================] - 3s 56ms/step - loss: 0.5063 - root_mean_squared_error: 0.7078 - val_loss: 0.4914 - val_root_mean_squared_error: 0.6974\n",
            "Epoch 55/100\n",
            "49/49 [==============================] - 3s 52ms/step - loss: 0.5030 - root_mean_squared_error: 0.7056 - val_loss: 0.4924 - val_root_mean_squared_error: 0.6977\n",
            "Epoch 56/100\n",
            "49/49 [==============================] - 3s 53ms/step - loss: 0.5086 - root_mean_squared_error: 0.7093 - val_loss: 0.4960 - val_root_mean_squared_error: 0.7002\n",
            "Epoch 57/100\n",
            "49/49 [==============================] - 3s 60ms/step - loss: 0.5057 - root_mean_squared_error: 0.7072 - val_loss: 0.4993 - val_root_mean_squared_error: 0.7027\n",
            "Epoch 58/100\n",
            "49/49 [==============================] - 2s 47ms/step - loss: 0.5037 - root_mean_squared_error: 0.7060 - val_loss: 0.5068 - val_root_mean_squared_error: 0.7089\n",
            "Epoch 59/100\n",
            "49/49 [==============================] - 3s 57ms/step - loss: 0.5055 - root_mean_squared_error: 0.7078 - val_loss: 0.4994 - val_root_mean_squared_error: 0.7031\n",
            "Epoch 60/100\n",
            "49/49 [==============================] - 3s 56ms/step - loss: 0.5042 - root_mean_squared_error: 0.7065 - val_loss: 0.4913 - val_root_mean_squared_error: 0.6968\n",
            "Epoch 61/100\n",
            "49/49 [==============================] - 3s 62ms/step - loss: 0.5002 - root_mean_squared_error: 0.7035 - val_loss: 0.5237 - val_root_mean_squared_error: 0.7209\n",
            "Epoch 62/100\n",
            "49/49 [==============================] - 3s 57ms/step - loss: 0.5067 - root_mean_squared_error: 0.7087 - val_loss: 0.5010 - val_root_mean_squared_error: 0.7047\n",
            "Epoch 63/100\n",
            "49/49 [==============================] - 2s 50ms/step - loss: 0.5028 - root_mean_squared_error: 0.7060 - val_loss: 0.5133 - val_root_mean_squared_error: 0.7138\n",
            "Epoch 64/100\n",
            "49/49 [==============================] - 2s 50ms/step - loss: 0.5062 - root_mean_squared_error: 0.7083 - val_loss: 0.4983 - val_root_mean_squared_error: 0.7028\n",
            "Epoch 65/100\n",
            "49/49 [==============================] - 3s 62ms/step - loss: 0.5036 - root_mean_squared_error: 0.7065 - val_loss: 0.4899 - val_root_mean_squared_error: 0.6963\n",
            "Epoch 66/100\n",
            "49/49 [==============================] - 3s 57ms/step - loss: 0.5087 - root_mean_squared_error: 0.7099 - val_loss: 0.4974 - val_root_mean_squared_error: 0.7017\n",
            "Epoch 67/100\n",
            "49/49 [==============================] - 3s 53ms/step - loss: 0.5067 - root_mean_squared_error: 0.7087 - val_loss: 0.4965 - val_root_mean_squared_error: 0.7016\n",
            "Epoch 68/100\n",
            "49/49 [==============================] - 2s 47ms/step - loss: 0.5005 - root_mean_squared_error: 0.7043 - val_loss: 0.5045 - val_root_mean_squared_error: 0.7072\n",
            "Epoch 69/100\n",
            "49/49 [==============================] - 3s 53ms/step - loss: 0.5029 - root_mean_squared_error: 0.7054 - val_loss: 0.4917 - val_root_mean_squared_error: 0.6976\n",
            "Epoch 70/100\n",
            "49/49 [==============================] - 3s 59ms/step - loss: 0.5035 - root_mean_squared_error: 0.7065 - val_loss: 0.5096 - val_root_mean_squared_error: 0.7112\n",
            "Epoch 71/100\n",
            "49/49 [==============================] - 3s 54ms/step - loss: 0.5047 - root_mean_squared_error: 0.7076 - val_loss: 0.4998 - val_root_mean_squared_error: 0.7045\n",
            "Epoch 72/100\n",
            "49/49 [==============================] - 3s 58ms/step - loss: 0.5016 - root_mean_squared_error: 0.7056 - val_loss: 0.4938 - val_root_mean_squared_error: 0.7001\n",
            "Epoch 73/100\n",
            "49/49 [==============================] - 3s 54ms/step - loss: 0.5033 - root_mean_squared_error: 0.7066 - val_loss: 0.5057 - val_root_mean_squared_error: 0.7083\n",
            "Epoch 74/100\n",
            "49/49 [==============================] - 2s 49ms/step - loss: 0.5024 - root_mean_squared_error: 0.7058 - val_loss: 0.5058 - val_root_mean_squared_error: 0.7082\n",
            "Epoch 75/100\n",
            "49/49 [==============================] - 2s 47ms/step - loss: 0.4995 - root_mean_squared_error: 0.7036 - val_loss: 0.4972 - val_root_mean_squared_error: 0.7020\n",
            "Epoch 76/100\n",
            "49/49 [==============================] - 3s 55ms/step - loss: 0.5026 - root_mean_squared_error: 0.7058 - val_loss: 0.4928 - val_root_mean_squared_error: 0.6991\n",
            "Epoch 77/100\n",
            "49/49 [==============================] - 3s 52ms/step - loss: 0.5044 - root_mean_squared_error: 0.7075 - val_loss: 0.4898 - val_root_mean_squared_error: 0.6968\n",
            "Epoch 78/100\n",
            "49/49 [==============================] - 2s 49ms/step - loss: 0.5000 - root_mean_squared_error: 0.7046 - val_loss: 0.4921 - val_root_mean_squared_error: 0.6990\n",
            "Epoch 79/100\n",
            "49/49 [==============================] - 3s 52ms/step - loss: 0.5027 - root_mean_squared_error: 0.7061 - val_loss: 0.5027 - val_root_mean_squared_error: 0.7059\n",
            "Epoch 80/100\n",
            "49/49 [==============================] - 3s 58ms/step - loss: 0.4983 - root_mean_squared_error: 0.7030 - val_loss: 0.4972 - val_root_mean_squared_error: 0.7026\n",
            "Epoch 81/100\n",
            "49/49 [==============================] - 3s 60ms/step - loss: 0.4990 - root_mean_squared_error: 0.7039 - val_loss: 0.4937 - val_root_mean_squared_error: 0.6999\n",
            "Epoch 82/100\n",
            "49/49 [==============================] - 3s 60ms/step - loss: 0.5023 - root_mean_squared_error: 0.7061 - val_loss: 0.4948 - val_root_mean_squared_error: 0.7005\n",
            "Epoch 83/100\n",
            "49/49 [==============================] - 3s 53ms/step - loss: 0.5023 - root_mean_squared_error: 0.7057 - val_loss: 0.5115 - val_root_mean_squared_error: 0.7127\n",
            "Epoch 84/100\n",
            "49/49 [==============================] - 3s 63ms/step - loss: 0.5044 - root_mean_squared_error: 0.7076 - val_loss: 0.4976 - val_root_mean_squared_error: 0.7029\n",
            "Epoch 85/100\n",
            "49/49 [==============================] - 3s 56ms/step - loss: 0.5010 - root_mean_squared_error: 0.7053 - val_loss: 0.4926 - val_root_mean_squared_error: 0.6991\n",
            "Epoch 86/100\n",
            "49/49 [==============================] - 3s 52ms/step - loss: 0.5002 - root_mean_squared_error: 0.7048 - val_loss: 0.5095 - val_root_mean_squared_error: 0.7119\n",
            "Epoch 87/100\n",
            "49/49 [==============================] - 3s 59ms/step - loss: 0.5030 - root_mean_squared_error: 0.7070 - val_loss: 0.5040 - val_root_mean_squared_error: 0.7078\n",
            "Epoch 88/100\n",
            "49/49 [==============================] - 3s 56ms/step - loss: 0.5027 - root_mean_squared_error: 0.7068 - val_loss: 0.4951 - val_root_mean_squared_error: 0.7012\n",
            "Epoch 89/100\n",
            "49/49 [==============================] - 3s 59ms/step - loss: 0.4992 - root_mean_squared_error: 0.7040 - val_loss: 0.5287 - val_root_mean_squared_error: 0.7250\n",
            "Epoch 90/100\n",
            "49/49 [==============================] - 3s 57ms/step - loss: 0.5074 - root_mean_squared_error: 0.7099 - val_loss: 0.5016 - val_root_mean_squared_error: 0.7059\n",
            "Epoch 91/100\n",
            "49/49 [==============================] - 2s 50ms/step - loss: 0.5009 - root_mean_squared_error: 0.7050 - val_loss: 0.4941 - val_root_mean_squared_error: 0.7002\n",
            "Epoch 92/100\n",
            "49/49 [==============================] - 2s 49ms/step - loss: 0.4999 - root_mean_squared_error: 0.7047 - val_loss: 0.5105 - val_root_mean_squared_error: 0.7125\n",
            "Epoch 93/100\n",
            "49/49 [==============================] - 3s 57ms/step - loss: 0.4987 - root_mean_squared_error: 0.7041 - val_loss: 0.4896 - val_root_mean_squared_error: 0.6974\n",
            "Epoch 94/100\n",
            "49/49 [==============================] - 2s 50ms/step - loss: 0.4995 - root_mean_squared_error: 0.7046 - val_loss: 0.4926 - val_root_mean_squared_error: 0.6999\n",
            "Epoch 95/100\n",
            "49/49 [==============================] - 3s 55ms/step - loss: 0.4974 - root_mean_squared_error: 0.7034 - val_loss: 0.4911 - val_root_mean_squared_error: 0.6990\n",
            "Epoch 96/100\n",
            "49/49 [==============================] - 3s 53ms/step - loss: 0.4985 - root_mean_squared_error: 0.7042 - val_loss: 0.5031 - val_root_mean_squared_error: 0.7076\n",
            "Epoch 97/100\n",
            "49/49 [==============================] - 2s 50ms/step - loss: 0.5012 - root_mean_squared_error: 0.7060 - val_loss: 0.4954 - val_root_mean_squared_error: 0.7020\n",
            "Epoch 98/100\n",
            "49/49 [==============================] - 3s 56ms/step - loss: 0.5024 - root_mean_squared_error: 0.7067 - val_loss: 0.4897 - val_root_mean_squared_error: 0.6975\n",
            "Epoch 99/100\n",
            "49/49 [==============================] - 2s 51ms/step - loss: 0.5018 - root_mean_squared_error: 0.7060 - val_loss: 0.4961 - val_root_mean_squared_error: 0.7022\n",
            "Epoch 100/100\n",
            "49/49 [==============================] - 3s 62ms/step - loss: 0.4996 - root_mean_squared_error: 0.7047 - val_loss: 0.4929 - val_root_mean_squared_error: 0.7002\n"
          ]
        }
      ],
      "source": [
        "# fit the nn model for vocabulary\n",
        "vocab_nn_model = build_nn_model(X_train.todense())\n",
        "\n",
        "tf.random.set_seed(53)\n",
        "\n",
        "vocab_nn_model_history = vocab_nn_model.fit(X_train.todense(), \n",
        "                                            y_train['grammar'], \n",
        "                                            validation_data = (X_test.todense(), \n",
        "                                            y_test['grammar']), \n",
        "                                            batch_size=64,\n",
        "                                            epochs=100,\n",
        "                                            shuffle=True)"
      ]
    },
    {
      "cell_type": "code",
      "execution_count": null,
      "metadata": {
        "id": "-wagCpFKxTGl",
        "outputId": "b50008b7-cb25-48a7-8c29-a288a36697a8"
      },
      "outputs": [
        {
          "name": "stdout",
          "output_type": "stream",
          "text": [
            "25/25 [==============================] - 0s 17ms/step\n",
            "25/25 [==============================] - 0s 19ms/step\n",
            "RMSE for non-LSTM NN (vocabulary): 0.39081315964186303\n",
            "RMSE for non-LSTM NN (grammar): 0.5029886492346045\n"
          ]
        }
      ],
      "source": [
        "# calculate RMSE for the neural network without LSTM\n",
        "\n",
        "vocab_pred, grammar_pred = vocab_nn_model.predict(X_test).flatten(), grammar_nn_model.predict(X_test).flatten()\n",
        "\n",
        "nn_predictions = pd.DataFrame(list(zip(vocab_pred, grammar_pred)), columns=['vocabulary', 'grammar'])\n",
        "\n",
        "nn_root_mean_squared_error = rmse(y_test, nn_predictions)\n",
        "\n",
        "print(f'''RMSE for non-LSTM NN (vocabulary): {rmse(y_test['vocabulary'], nn_predictions['vocabulary'])}''')\n",
        "\n",
        "print(f'''RMSE for non-LSTM NN (grammar): {rmse(y_test['grammar'], nn_predictions['grammar'])}''')"
      ]
    },
    {
      "cell_type": "code",
      "execution_count": null,
      "metadata": {
        "id": "9aGlEpsjxTGl",
        "outputId": "67acea72-9add-4892-bf23-2cd299f46399"
      },
      "outputs": [
        {
          "name": "stdout",
          "output_type": "stream",
          "text": [
            "AxesSubplot(0.125,0.11;0.775x0.77)\n",
            "AxesSubplot(0.125,0.11;0.775x0.77)\n"
          ]
        },
        {
          "data": {
            "image/png": "[encoded data removed]",
            "text/plain": [
              "<Figure size 640x480 with 1 Axes>"
            ]
          },
          "metadata": {},
          "output_type": "display_data"
        },
        {
          "data": {
            "image/png": "[encoded data removed]",
            "text/plain": [
              "<Figure size 640x480 with 1 Axes>"
            ]
          },
          "metadata": {},
          "output_type": "display_data"
        }
      ],
      "source": [
        "import matplotlib.pyplot as plt\n",
        "\n",
        "vocab_history_df = pd.DataFrame(vocab_nn_model_history.history)\n",
        "grammar_history_df = pd.DataFrame(grammar_nn_model_history.history)\n",
        "\n",
        "print(vocab_history_df.loc[:,['root_mean_squared_error','val_root_mean_squared_error']].plot(title='Vocabulary (non-LSTM)', xlabel='Epoch', ylabel='RMSE'))\n",
        "print(grammar_history_df.loc[:,['root_mean_squared_error','val_root_mean_squared_error']].plot(title='Grammar (non-LSTM)', xlabel='Epoch', ylabel='RMSE'))\n"
      ]
    },
    {
      "cell_type": "markdown",
      "metadata": {
        "id": "A68C19NHxTGl"
      },
      "source": [
        "### 5c. LSTM Neural Network"
      ]
    },
    {
      "cell_type": "code",
      "execution_count": null,
      "metadata": {
        "id": "zfCtwoY3xTGl"
      },
      "outputs": [],
      "source": [
        "from tensorflow.keras.preprocessing.text import Tokenizer\n",
        "from tensorflow.keras.preprocessing.sequence import pad_sequences\n",
        "\n",
        "train_texts, test_texts = train_test_split(df['full_text'],  test_size = 0.20, random_state=42)"
      ]
    },
    {
      "cell_type": "code",
      "execution_count": null,
      "metadata": {
        "id": "mxB533MExTGl",
        "outputId": "3ed1b27a-3744-44e6-d037-c14e18518dce"
      },
      "outputs": [
        {
          "name": "stdout",
          "output_type": "stream",
          "text": [
            "There are 19539 distinct words in the training corpus\n",
            "The longest text in the training corpus is 577 words long\n"
          ]
        }
      ],
      "source": [
        "\n",
        "# for LSTM we need to pass the essays to the neural network as sequences of tokens\n",
        "# as opposed to the TF-IDF vectors used by the SVM and neural network models\n",
        "tokenizer = Tokenizer(oov_token=\"<UNK>\")\n",
        "tokenizer.fit_on_texts(train_texts)\n",
        "word_index = tokenizer.word_index\n",
        "\n",
        "# find the number of distinct words in the training corpus (this will determine\n",
        "# the dimensions of the embedding layer)\n",
        "n_words = len(word_index)\n",
        "print(\"There are\", n_words, \"distinct words in the training corpus\")\n",
        "\n",
        "# find the maximum essay length in the training corpus\n",
        "maxlen = -1\n",
        "for text in train_texts:\n",
        "    length = len(text.split(' '))\n",
        "    if length > maxlen:\n",
        "        maxlen = length \n",
        "\n",
        "\n",
        "print(f'The longest text in the training corpus is {maxlen} words long')\n",
        "\n",
        "# convert texts to sequences and pad them so that they are all the same length\n",
        "train_sequences = tokenizer.texts_to_sequences(train_texts)\n",
        "# rounding the maximum essay length to the nearest hundred\n",
        "max_word_count = 600\n",
        "X_train_seq = pad_sequences(train_sequences, maxlen=max_word_count, truncating='post')\n",
        "\n",
        "test_sequences = tokenizer.texts_to_sequences(test_texts)\n",
        "X_test_seq = pad_sequences(test_sequences, maxlen=max_word_count, truncating='post')\n",
        "\n",
        "\n"
      ]
    },
    {
      "cell_type": "code",
      "execution_count": null,
      "metadata": {
        "id": "1CBwxY--xTGl"
      },
      "outputs": [],
      "source": [
        "def build_lstm_model(X):\n",
        "\n",
        "  # input layer\n",
        "  input = tf.keras.layers.Input(shape=(max_word_count))\n",
        "  # trained embedding layer\n",
        "  embeddings = tf.keras.layers.Embedding(n_words + 1, 1024, input_length=max_word_count)(input)\n",
        "  # LSTM layer\n",
        "  x = tf.keras.layers.Bidirectional(tf.keras.layers.LSTM(1024))(embeddings)\n",
        "\n",
        "  # dense layer, high regularization parameter, relu activation\n",
        "  x = tf.keras.layers.Dense(units=1024, activation='relu', kernel_regularizer=tf.keras.regularizers.L2(0.1))(x)\n",
        "\n",
        "  # large dropout layer\n",
        "  x = tf.keras.layers.Dropout(0.7)(x)\n",
        "\n",
        "  # dense layer with slightly lower regularization parameter and relu activation\n",
        "  x = tf.keras.layers.Dense(units=512, activation='relu', kernel_regularizer=tf.keras.regularizers.L2(0.08))(x)\n",
        "\n",
        "  # another dropout layer\n",
        "  x = tf.keras.layers.Dropout(0.6)(x)\n",
        "\n",
        "  # dense layer with smaller regularization parameter and relu activation\n",
        "  x = tf.keras.layers.Dense(units=256, activation='relu', kernel_regularizer=tf.keras.regularizers.L2(0.05))(x)\n",
        "\n",
        "  # another dropout layer\n",
        "  x = tf.keras.layers.Dropout(0.5)(x)\n",
        "\n",
        "  # dense layer with the same regularization paramter and relu activation\n",
        "  x = tf.keras.layers.Dense(units=128, activation='relu', kernel_regularizer=tf.keras.regularizers.L2(0.05))(x)\n",
        "\n",
        "  # one last dropout layer\n",
        "  x = tf.keras.layers.Dropout(0.4)(x)\n",
        "\n",
        "  predictions = tf.keras.layers.Dense(units=1, activation=\"relu\", name=\"predictions\")(x)\n",
        "\n",
        "  # output layer\n",
        "  model = tf.keras.Model(inputs=input, outputs=predictions)\n",
        "  model.compile(loss=\"mean_squared_error\", optimizer=\"adam\", metrics=tf.keras.metrics.RootMeanSquaredError(name='RootMeanSquredError'))\n",
        "\n",
        "  return model\n",
        "\n"
      ]
    },
    {
      "cell_type": "code",
      "execution_count": null,
      "metadata": {
        "id": "RJcF_YnOxTGl",
        "outputId": "ea6eff3e-7727-4f87-89c3-6831f4ec05d9"
      },
      "outputs": [
        {
          "name": "stdout",
          "output_type": "stream",
          "text": [
            "Epoch 1/100\n"
          ]
        },
        {
          "name": "stderr",
          "output_type": "stream",
          "text": [
            "2022-12-05 08:05:15.824821: I tensorflow/core/grappler/optimizers/custom_graph_optimizer_registry.cc:114] Plugin optimizer for device_type GPU is enabled.\n",
            "2022-12-05 08:05:16.222220: I tensorflow/core/grappler/optimizers/custom_graph_optimizer_registry.cc:114] Plugin optimizer for device_type GPU is enabled.\n",
            "2022-12-05 08:05:16.268957: I tensorflow/core/grappler/optimizers/custom_graph_optimizer_registry.cc:114] Plugin optimizer for device_type GPU is enabled.\n",
            "2022-12-05 08:05:20.318156: I tensorflow/core/grappler/optimizers/custom_graph_optimizer_registry.cc:114] Plugin optimizer for device_type GPU is enabled.\n",
            "2022-12-05 08:05:20.343262: I tensorflow/core/grappler/optimizers/custom_graph_optimizer_registry.cc:114] Plugin optimizer for device_type GPU is enabled.\n"
          ]
        },
        {
          "name": "stdout",
          "output_type": "stream",
          "text": [
            "49/49 [==============================] - ETA: 0s - loss: 91.8661 - RootMeanSquredError: 1.9175"
          ]
        },
        {
          "name": "stderr",
          "output_type": "stream",
          "text": [
            "2022-12-05 08:06:52.981964: I tensorflow/core/grappler/optimizers/custom_graph_optimizer_registry.cc:114] Plugin optimizer for device_type GPU is enabled.\n",
            "2022-12-05 08:06:53.107725: I tensorflow/core/grappler/optimizers/custom_graph_optimizer_registry.cc:114] Plugin optimizer for device_type GPU is enabled.\n",
            "2022-12-05 08:06:53.121431: I tensorflow/core/grappler/optimizers/custom_graph_optimizer_registry.cc:114] Plugin optimizer for device_type GPU is enabled.\n"
          ]
        },
        {
          "name": "stdout",
          "output_type": "stream",
          "text": [
            "49/49 [==============================] - 108s 2s/step - loss: 91.8661 - RootMeanSquredError: 1.9175 - val_loss: 35.2064 - val_RootMeanSquredError: 1.6912\n",
            "Epoch 2/100\n",
            "49/49 [==============================] - 85s 2s/step - loss: 22.3672 - RootMeanSquredError: 0.6557 - val_loss: 16.2057 - val_RootMeanSquredError: 1.1495\n",
            "Epoch 3/100\n",
            "49/49 [==============================] - 87s 2s/step - loss: 11.8219 - RootMeanSquredError: 0.6611 - val_loss: 9.4965 - val_RootMeanSquredError: 0.9636\n",
            "Epoch 4/100\n",
            "49/49 [==============================] - 87s 2s/step - loss: 7.2871 - RootMeanSquredError: 0.6397 - val_loss: 6.2437 - val_RootMeanSquredError: 0.8938\n",
            "Epoch 5/100\n",
            "49/49 [==============================] - 89s 2s/step - loss: 4.8975 - RootMeanSquredError: 0.6093 - val_loss: 4.4504 - val_RootMeanSquredError: 0.8569\n",
            "Epoch 6/100\n",
            "49/49 [==============================] - 86s 2s/step - loss: 3.4418 - RootMeanSquredError: 0.5310 - val_loss: 3.5126 - val_RootMeanSquredError: 0.9234\n",
            "Epoch 7/100\n",
            "49/49 [==============================] - 84s 2s/step - loss: 2.5944 - RootMeanSquredError: 0.5000 - val_loss: 2.5902 - val_RootMeanSquredError: 0.7703\n",
            "Epoch 8/100\n",
            "49/49 [==============================] - 83s 2s/step - loss: 2.8202 - RootMeanSquredError: 0.8801 - val_loss: 3.2731 - val_RootMeanSquredError: 1.1312\n",
            "Epoch 9/100\n",
            "49/49 [==============================] - 82s 2s/step - loss: 1.9878 - RootMeanSquredError: 0.6204 - val_loss: 2.1015 - val_RootMeanSquredError: 0.8901\n",
            "Epoch 10/100\n",
            "49/49 [==============================] - 83s 2s/step - loss: 1.4299 - RootMeanSquredError: 0.5329 - val_loss: 1.6784 - val_RootMeanSquredError: 0.8243\n",
            "Epoch 11/100\n",
            "49/49 [==============================] - 82s 2s/step - loss: 1.0970 - RootMeanSquredError: 0.4508 - val_loss: 1.3820 - val_RootMeanSquredError: 0.7669\n",
            "Epoch 12/100\n",
            "49/49 [==============================] - 82s 2s/step - loss: 0.8850 - RootMeanSquredError: 0.4051 - val_loss: 1.3496 - val_RootMeanSquredError: 0.8368\n",
            "Epoch 13/100\n",
            "49/49 [==============================] - 82s 2s/step - loss: 0.7444 - RootMeanSquredError: 0.3867 - val_loss: 1.0771 - val_RootMeanSquredError: 0.7300\n",
            "Epoch 14/100\n",
            "49/49 [==============================] - 83s 2s/step - loss: 0.6229 - RootMeanSquredError: 0.3516 - val_loss: 0.9732 - val_RootMeanSquredError: 0.7169\n",
            "Epoch 15/100\n",
            "49/49 [==============================] - 83s 2s/step - loss: 0.5284 - RootMeanSquredError: 0.3229 - val_loss: 0.9921 - val_RootMeanSquredError: 0.7757\n",
            "Epoch 16/100\n",
            "49/49 [==============================] - 82s 2s/step - loss: 0.4489 - RootMeanSquredError: 0.2924 - val_loss: 0.9647 - val_RootMeanSquredError: 0.7912\n",
            "Epoch 17/100\n",
            "49/49 [==============================] - 84s 2s/step - loss: 0.3817 - RootMeanSquredError: 0.2572 - val_loss: 1.0330 - val_RootMeanSquredError: 0.8603\n",
            "Epoch 18/100\n",
            "49/49 [==============================] - 84s 2s/step - loss: 0.3273 - RootMeanSquredError: 0.2283 - val_loss: 0.9487 - val_RootMeanSquredError: 0.8302\n",
            "Epoch 19/100\n",
            "49/49 [==============================] - 87s 2s/step - loss: 0.2898 - RootMeanSquredError: 0.2147 - val_loss: 0.9098 - val_RootMeanSquredError: 0.8257\n",
            "Epoch 20/100\n",
            "49/49 [==============================] - 85s 2s/step - loss: 0.2541 - RootMeanSquredError: 0.1944 - val_loss: 0.9164 - val_RootMeanSquredError: 0.8433\n",
            "Epoch 21/100\n",
            "49/49 [==============================] - 73s 1s/step - loss: nan - RootMeanSquredError: 0.9791 - val_loss: nan - val_RootMeanSquredError: 0.6422\n",
            "Epoch 22/100\n",
            "49/49 [==============================] - 70s 1s/step - loss: nan - RootMeanSquredError: 0.6006 - val_loss: nan - val_RootMeanSquredError: 0.6099\n",
            "Epoch 23/100\n",
            "49/49 [==============================] - 71s 1s/step - loss: nan - RootMeanSquredError: 0.5951 - val_loss: nan - val_RootMeanSquredError: 0.5947\n",
            "Epoch 24/100\n",
            "49/49 [==============================] - 70s 1s/step - loss: nan - RootMeanSquredError: 0.5906 - val_loss: nan - val_RootMeanSquredError: 0.6192\n",
            "Epoch 25/100\n",
            "49/49 [==============================] - 70s 1s/step - loss: nan - RootMeanSquredError: 0.5927 - val_loss: nan - val_RootMeanSquredError: 0.6290\n",
            "Epoch 26/100\n",
            "49/49 [==============================] - 70s 1s/step - loss: nan - RootMeanSquredError: 0.5918 - val_loss: nan - val_RootMeanSquredError: 0.5966\n",
            "Epoch 27/100\n",
            "49/49 [==============================] - 70s 1s/step - loss: nan - RootMeanSquredError: 0.5916 - val_loss: nan - val_RootMeanSquredError: 0.6173\n",
            "Epoch 28/100\n",
            "49/49 [==============================] - 70s 1s/step - loss: nan - RootMeanSquredError: 0.5928 - val_loss: nan - val_RootMeanSquredError: 0.6061\n",
            "Epoch 29/100\n",
            "49/49 [==============================] - 70s 1s/step - loss: nan - RootMeanSquredError: 0.5904 - val_loss: nan - val_RootMeanSquredError: 0.6172\n",
            "Epoch 30/100\n",
            "49/49 [==============================] - 70s 1s/step - loss: nan - RootMeanSquredError: 0.5944 - val_loss: nan - val_RootMeanSquredError: 0.5840\n",
            "Epoch 31/100\n",
            "49/49 [==============================] - 70s 1s/step - loss: nan - RootMeanSquredError: 0.5934 - val_loss: nan - val_RootMeanSquredError: 0.6077\n",
            "Epoch 32/100\n",
            "49/49 [==============================] - 68s 1s/step - loss: nan - RootMeanSquredError: 0.5908 - val_loss: nan - val_RootMeanSquredError: 0.5973\n",
            "Epoch 33/100\n",
            "49/49 [==============================] - 69s 1s/step - loss: nan - RootMeanSquredError: 0.5970 - val_loss: nan - val_RootMeanSquredError: 0.5969\n",
            "Epoch 34/100\n",
            "49/49 [==============================] - 71s 1s/step - loss: nan - RootMeanSquredError: 0.5909 - val_loss: nan - val_RootMeanSquredError: 0.6089\n",
            "Epoch 35/100\n",
            "49/49 [==============================] - 69s 1s/step - loss: nan - RootMeanSquredError: 0.5929 - val_loss: nan - val_RootMeanSquredError: 0.5854\n",
            "Epoch 36/100\n",
            "49/49 [==============================] - 70s 1s/step - loss: nan - RootMeanSquredError: 0.5915 - val_loss: nan - val_RootMeanSquredError: 0.5939\n",
            "Epoch 37/100\n",
            "49/49 [==============================] - 69s 1s/step - loss: nan - RootMeanSquredError: 0.5913 - val_loss: nan - val_RootMeanSquredError: 0.5929\n",
            "Epoch 38/100\n",
            "49/49 [==============================] - 71s 1s/step - loss: nan - RootMeanSquredError: 0.5913 - val_loss: nan - val_RootMeanSquredError: 0.5988\n",
            "Epoch 39/100\n",
            "49/49 [==============================] - 71s 1s/step - loss: nan - RootMeanSquredError: 0.5935 - val_loss: nan - val_RootMeanSquredError: 0.6065\n",
            "Epoch 40/100\n",
            "49/49 [==============================] - 70s 1s/step - loss: nan - RootMeanSquredError: 0.5917 - val_loss: nan - val_RootMeanSquredError: 0.5889\n",
            "Epoch 41/100\n",
            "49/49 [==============================] - 69s 1s/step - loss: nan - RootMeanSquredError: 0.5908 - val_loss: nan - val_RootMeanSquredError: 0.6216\n",
            "Epoch 42/100\n",
            "49/49 [==============================] - 68s 1s/step - loss: nan - RootMeanSquredError: 0.5921 - val_loss: nan - val_RootMeanSquredError: 0.5758\n",
            "Epoch 43/100\n",
            "49/49 [==============================] - 68s 1s/step - loss: nan - RootMeanSquredError: 0.5917 - val_loss: nan - val_RootMeanSquredError: 0.5957\n",
            "Epoch 44/100\n",
            "49/49 [==============================] - 67s 1s/step - loss: nan - RootMeanSquredError: 0.5916 - val_loss: nan - val_RootMeanSquredError: 0.5946\n",
            "Epoch 45/100\n",
            "49/49 [==============================] - 67s 1s/step - loss: nan - RootMeanSquredError: 0.5950 - val_loss: nan - val_RootMeanSquredError: 0.5773\n",
            "Epoch 46/100\n",
            "49/49 [==============================] - 67s 1s/step - loss: nan - RootMeanSquredError: 0.5929 - val_loss: nan - val_RootMeanSquredError: 0.5768\n",
            "Epoch 47/100\n",
            "49/49 [==============================] - 67s 1s/step - loss: nan - RootMeanSquredError: 0.5907 - val_loss: nan - val_RootMeanSquredError: 0.5768\n",
            "Epoch 48/100\n",
            "49/49 [==============================] - 67s 1s/step - loss: nan - RootMeanSquredError: 0.5945 - val_loss: nan - val_RootMeanSquredError: 0.5890\n",
            "Epoch 49/100\n",
            "49/49 [==============================] - 68s 1s/step - loss: nan - RootMeanSquredError: 0.5898 - val_loss: nan - val_RootMeanSquredError: 0.5866\n",
            "Epoch 50/100\n",
            "49/49 [==============================] - 68s 1s/step - loss: nan - RootMeanSquredError: 0.5941 - val_loss: nan - val_RootMeanSquredError: 0.5882\n",
            "Epoch 51/100\n",
            "49/49 [==============================] - 68s 1s/step - loss: nan - RootMeanSquredError: 0.5937 - val_loss: nan - val_RootMeanSquredError: 0.5746\n",
            "Epoch 52/100\n",
            "49/49 [==============================] - 67s 1s/step - loss: nan - RootMeanSquredError: 0.5945 - val_loss: nan - val_RootMeanSquredError: 0.5810\n",
            "Epoch 53/100\n",
            "49/49 [==============================] - 67s 1s/step - loss: nan - RootMeanSquredError: 0.5958 - val_loss: nan - val_RootMeanSquredError: 0.5819\n",
            "Epoch 54/100\n",
            "49/49 [==============================] - 68s 1s/step - loss: nan - RootMeanSquredError: 0.5929 - val_loss: nan - val_RootMeanSquredError: 0.5799\n",
            "Epoch 55/100\n",
            "49/49 [==============================] - 67s 1s/step - loss: nan - RootMeanSquredError: 0.5909 - val_loss: nan - val_RootMeanSquredError: 0.5741\n",
            "Epoch 56/100\n",
            "49/49 [==============================] - 68s 1s/step - loss: nan - RootMeanSquredError: 0.5912 - val_loss: nan - val_RootMeanSquredError: 0.5794\n",
            "Epoch 57/100\n",
            "49/49 [==============================] - 68s 1s/step - loss: nan - RootMeanSquredError: 0.5903 - val_loss: nan - val_RootMeanSquredError: 0.5778\n",
            "Epoch 58/100\n",
            "49/49 [==============================] - 70s 1s/step - loss: nan - RootMeanSquredError: 0.5951 - val_loss: nan - val_RootMeanSquredError: 0.5797\n",
            "Epoch 59/100\n",
            "49/49 [==============================] - 71s 1s/step - loss: nan - RootMeanSquredError: 0.5933 - val_loss: nan - val_RootMeanSquredError: 0.5828\n",
            "Epoch 60/100\n",
            "49/49 [==============================] - 69s 1s/step - loss: nan - RootMeanSquredError: 0.5916 - val_loss: nan - val_RootMeanSquredError: 0.5785\n",
            "Epoch 61/100\n",
            "49/49 [==============================] - 69s 1s/step - loss: nan - RootMeanSquredError: 0.5931 - val_loss: nan - val_RootMeanSquredError: 0.5798\n",
            "Epoch 62/100\n",
            "49/49 [==============================] - 69s 1s/step - loss: nan - RootMeanSquredError: 0.5916 - val_loss: nan - val_RootMeanSquredError: 0.5834\n",
            "Epoch 63/100\n",
            "49/49 [==============================] - 69s 1s/step - loss: nan - RootMeanSquredError: 0.5932 - val_loss: nan - val_RootMeanSquredError: 0.5813\n",
            "Epoch 64/100\n",
            "49/49 [==============================] - 69s 1s/step - loss: nan - RootMeanSquredError: 0.5902 - val_loss: nan - val_RootMeanSquredError: 0.5757\n",
            "Epoch 65/100\n",
            "49/49 [==============================] - 69s 1s/step - loss: nan - RootMeanSquredError: 0.5925 - val_loss: nan - val_RootMeanSquredError: 0.5748\n",
            "Epoch 66/100\n",
            "49/49 [==============================] - 69s 1s/step - loss: nan - RootMeanSquredError: 0.5931 - val_loss: nan - val_RootMeanSquredError: 0.5742\n",
            "Epoch 67/100\n",
            "49/49 [==============================] - 69s 1s/step - loss: nan - RootMeanSquredError: 0.5935 - val_loss: nan - val_RootMeanSquredError: 0.5782\n",
            "Epoch 68/100\n",
            "49/49 [==============================] - 69s 1s/step - loss: nan - RootMeanSquredError: 0.5923 - val_loss: nan - val_RootMeanSquredError: 0.5740\n",
            "Epoch 69/100\n",
            "49/49 [==============================] - 69s 1s/step - loss: nan - RootMeanSquredError: 0.5916 - val_loss: nan - val_RootMeanSquredError: 0.5781\n",
            "Epoch 70/100\n",
            "49/49 [==============================] - 70s 1s/step - loss: nan - RootMeanSquredError: 0.5912 - val_loss: nan - val_RootMeanSquredError: 0.5791\n",
            "Epoch 71/100\n",
            "49/49 [==============================] - 68s 1s/step - loss: nan - RootMeanSquredError: 0.5921 - val_loss: nan - val_RootMeanSquredError: 0.5822\n",
            "Epoch 72/100\n",
            "49/49 [==============================] - 68s 1s/step - loss: nan - RootMeanSquredError: 0.5901 - val_loss: nan - val_RootMeanSquredError: 0.5758\n",
            "Epoch 73/100\n",
            "49/49 [==============================] - 68s 1s/step - loss: nan - RootMeanSquredError: 0.5930 - val_loss: nan - val_RootMeanSquredError: 0.5855\n",
            "Epoch 74/100\n",
            "49/49 [==============================] - 68s 1s/step - loss: nan - RootMeanSquredError: 0.5915 - val_loss: nan - val_RootMeanSquredError: 0.5746\n",
            "Epoch 75/100\n",
            "49/49 [==============================] - 68s 1s/step - loss: nan - RootMeanSquredError: 0.5903 - val_loss: nan - val_RootMeanSquredError: 0.5750\n",
            "Epoch 76/100\n",
            "49/49 [==============================] - 68s 1s/step - loss: nan - RootMeanSquredError: 0.5928 - val_loss: nan - val_RootMeanSquredError: 0.5837\n",
            "Epoch 77/100\n",
            "49/49 [==============================] - 69s 1s/step - loss: nan - RootMeanSquredError: 0.5930 - val_loss: nan - val_RootMeanSquredError: 0.5755\n",
            "Epoch 78/100\n",
            "49/49 [==============================] - 69s 1s/step - loss: nan - RootMeanSquredError: 0.5914 - val_loss: nan - val_RootMeanSquredError: 0.5751\n",
            "Epoch 79/100\n",
            "49/49 [==============================] - 69s 1s/step - loss: nan - RootMeanSquredError: 0.5906 - val_loss: nan - val_RootMeanSquredError: 0.5787\n",
            "Epoch 80/100\n",
            "49/49 [==============================] - 69s 1s/step - loss: nan - RootMeanSquredError: 0.5918 - val_loss: nan - val_RootMeanSquredError: 0.5872\n",
            "Epoch 81/100\n",
            "49/49 [==============================] - 69s 1s/step - loss: nan - RootMeanSquredError: 0.5951 - val_loss: nan - val_RootMeanSquredError: 0.5739\n",
            "Epoch 82/100\n",
            "49/49 [==============================] - 69s 1s/step - loss: nan - RootMeanSquredError: 0.5947 - val_loss: nan - val_RootMeanSquredError: 0.6007\n",
            "Epoch 83/100\n",
            "49/49 [==============================] - 69s 1s/step - loss: nan - RootMeanSquredError: 0.5913 - val_loss: nan - val_RootMeanSquredError: 0.5845\n",
            "Epoch 84/100\n",
            "49/49 [==============================] - 69s 1s/step - loss: nan - RootMeanSquredError: 0.5915 - val_loss: nan - val_RootMeanSquredError: 0.5739\n",
            "Epoch 85/100\n",
            "49/49 [==============================] - 69s 1s/step - loss: nan - RootMeanSquredError: 0.5900 - val_loss: nan - val_RootMeanSquredError: 0.5762\n",
            "Epoch 86/100\n",
            "49/49 [==============================] - 69s 1s/step - loss: nan - RootMeanSquredError: 0.5912 - val_loss: nan - val_RootMeanSquredError: 0.5740\n",
            "Epoch 87/100\n",
            "49/49 [==============================] - 69s 1s/step - loss: nan - RootMeanSquredError: 0.5912 - val_loss: nan - val_RootMeanSquredError: 0.5744\n",
            "Epoch 88/100\n",
            "49/49 [==============================] - 69s 1s/step - loss: nan - RootMeanSquredError: 0.5899 - val_loss: nan - val_RootMeanSquredError: 0.5739\n",
            "Epoch 89/100\n",
            "49/49 [==============================] - 70s 1s/step - loss: nan - RootMeanSquredError: 0.5912 - val_loss: nan - val_RootMeanSquredError: 0.5764\n",
            "Epoch 90/100\n",
            "49/49 [==============================] - 69s 1s/step - loss: nan - RootMeanSquredError: 0.5919 - val_loss: nan - val_RootMeanSquredError: 0.5851\n",
            "Epoch 91/100\n",
            "49/49 [==============================] - 69s 1s/step - loss: nan - RootMeanSquredError: 0.5928 - val_loss: nan - val_RootMeanSquredError: 0.5837\n",
            "Epoch 92/100\n",
            "49/49 [==============================] - 69s 1s/step - loss: nan - RootMeanSquredError: 0.5893 - val_loss: nan - val_RootMeanSquredError: 0.5771\n",
            "Epoch 93/100\n",
            "49/49 [==============================] - 69s 1s/step - loss: nan - RootMeanSquredError: 0.5902 - val_loss: nan - val_RootMeanSquredError: 0.5780\n",
            "Epoch 94/100\n",
            "49/49 [==============================] - 69s 1s/step - loss: nan - RootMeanSquredError: 0.5881 - val_loss: nan - val_RootMeanSquredError: 0.5741\n",
            "Epoch 95/100\n",
            "49/49 [==============================] - 69s 1s/step - loss: nan - RootMeanSquredError: 0.5911 - val_loss: nan - val_RootMeanSquredError: 0.5798\n",
            "Epoch 96/100\n",
            "49/49 [==============================] - 69s 1s/step - loss: nan - RootMeanSquredError: 0.5920 - val_loss: nan - val_RootMeanSquredError: 0.5739\n",
            "Epoch 97/100\n",
            "49/49 [==============================] - 69s 1s/step - loss: nan - RootMeanSquredError: 0.5950 - val_loss: nan - val_RootMeanSquredError: 0.5741\n",
            "Epoch 98/100\n",
            "49/49 [==============================] - 69s 1s/step - loss: nan - RootMeanSquredError: 0.5900 - val_loss: nan - val_RootMeanSquredError: 0.5751\n",
            "Epoch 99/100\n",
            "49/49 [==============================] - 68s 1s/step - loss: nan - RootMeanSquredError: 0.5901 - val_loss: nan - val_RootMeanSquredError: 0.5742\n",
            "Epoch 100/100\n",
            "49/49 [==============================] - 67s 1s/step - loss: nan - RootMeanSquredError: 0.5921 - val_loss: nan - val_RootMeanSquredError: 0.5740\n",
            "Epoch 1/100\n"
          ]
        },
        {
          "name": "stderr",
          "output_type": "stream",
          "text": [
            "2022-12-05 10:05:41.100436: I tensorflow/core/grappler/optimizers/custom_graph_optimizer_registry.cc:114] Plugin optimizer for device_type GPU is enabled.\n",
            "2022-12-05 10:05:41.391013: I tensorflow/core/grappler/optimizers/custom_graph_optimizer_registry.cc:114] Plugin optimizer for device_type GPU is enabled.\n",
            "2022-12-05 10:05:41.410231: I tensorflow/core/grappler/optimizers/custom_graph_optimizer_registry.cc:114] Plugin optimizer for device_type GPU is enabled.\n",
            "2022-12-05 10:05:44.345230: I tensorflow/core/grappler/optimizers/custom_graph_optimizer_registry.cc:114] Plugin optimizer for device_type GPU is enabled.\n",
            "2022-12-05 10:05:44.370029: I tensorflow/core/grappler/optimizers/custom_graph_optimizer_registry.cc:114] Plugin optimizer for device_type GPU is enabled.\n"
          ]
        },
        {
          "name": "stdout",
          "output_type": "stream",
          "text": [
            "49/49 [==============================] - ETA: 0s - loss: 95.0906 - RootMeanSquredError: 1.9844"
          ]
        },
        {
          "name": "stderr",
          "output_type": "stream",
          "text": [
            "2022-12-05 10:07:13.108127: I tensorflow/core/grappler/optimizers/custom_graph_optimizer_registry.cc:114] Plugin optimizer for device_type GPU is enabled.\n",
            "2022-12-05 10:07:13.241718: I tensorflow/core/grappler/optimizers/custom_graph_optimizer_registry.cc:114] Plugin optimizer for device_type GPU is enabled.\n",
            "2022-12-05 10:07:13.255470: I tensorflow/core/grappler/optimizers/custom_graph_optimizer_registry.cc:114] Plugin optimizer for device_type GPU is enabled.\n"
          ]
        },
        {
          "name": "stdout",
          "output_type": "stream",
          "text": [
            "49/49 [==============================] - 102s 2s/step - loss: 95.0906 - RootMeanSquredError: 1.9844 - val_loss: 40.3290 - val_RootMeanSquredError: 1.6972\n",
            "Epoch 2/100\n",
            "49/49 [==============================] - 85s 2s/step - loss: 26.6571 - RootMeanSquredError: 0.7633 - val_loss: 20.0250 - val_RootMeanSquredError: 1.3094\n",
            "Epoch 3/100\n",
            "49/49 [==============================] - 83s 2s/step - loss: 14.8464 - RootMeanSquredError: 0.6670 - val_loss: 12.9055 - val_RootMeanSquredError: 1.3074\n",
            "Epoch 4/100\n",
            "49/49 [==============================] - 84s 2s/step - loss: 9.5572 - RootMeanSquredError: 0.5812 - val_loss: 8.8130 - val_RootMeanSquredError: 1.1438\n",
            "Epoch 5/100\n",
            "49/49 [==============================] - 84s 2s/step - loss: 6.6301 - RootMeanSquredError: 0.5181 - val_loss: 6.8407 - val_RootMeanSquredError: 1.2271\n",
            "Epoch 6/100\n",
            "49/49 [==============================] - 83s 2s/step - loss: 4.8274 - RootMeanSquredError: 0.4628 - val_loss: 5.2370 - val_RootMeanSquredError: 1.1317\n",
            "Epoch 7/100\n",
            "49/49 [==============================] - 82s 2s/step - loss: 3.6543 - RootMeanSquredError: 0.4237 - val_loss: 4.4156 - val_RootMeanSquredError: 1.1778\n",
            "Epoch 8/100\n",
            "49/49 [==============================] - 82s 2s/step - loss: 2.8290 - RootMeanSquredError: 0.3681 - val_loss: 3.4852 - val_RootMeanSquredError: 1.0518\n",
            "Epoch 9/100\n",
            "49/49 [==============================] - 82s 2s/step - loss: 2.2427 - RootMeanSquredError: 0.3277 - val_loss: 2.8942 - val_RootMeanSquredError: 0.9939\n",
            "Epoch 10/100\n",
            "49/49 [==============================] - 81s 2s/step - loss: 1.8048 - RootMeanSquredError: 0.2879 - val_loss: 2.8748 - val_RootMeanSquredError: 1.1516\n",
            "Epoch 11/100\n",
            "49/49 [==============================] - 81s 2s/step - loss: 1.4783 - RootMeanSquredError: 0.2613 - val_loss: 2.5457 - val_RootMeanSquredError: 1.1273\n",
            "Epoch 12/100\n",
            "49/49 [==============================] - 81s 2s/step - loss: 1.2290 - RootMeanSquredError: 0.2449 - val_loss: 2.2890 - val_RootMeanSquredError: 1.1063\n",
            "Epoch 13/100\n",
            "49/49 [==============================] - 80s 2s/step - loss: 1.0281 - RootMeanSquredError: 0.2217 - val_loss: 2.0370 - val_RootMeanSquredError: 1.0681\n",
            "Epoch 14/100\n",
            "49/49 [==============================] - 81s 2s/step - loss: 0.8683 - RootMeanSquredError: 0.2046 - val_loss: 1.7945 - val_RootMeanSquredError: 1.0170\n",
            "Epoch 15/100\n",
            "49/49 [==============================] - 80s 2s/step - loss: 0.7499 - RootMeanSquredError: 0.2125 - val_loss: 1.7963 - val_RootMeanSquredError: 1.0699\n",
            "Epoch 16/100\n",
            "49/49 [==============================] - 80s 2s/step - loss: 0.6399 - RootMeanSquredError: 0.1890 - val_loss: 1.6923 - val_RootMeanSquredError: 1.0643\n",
            "Epoch 17/100\n",
            "49/49 [==============================] - 79s 2s/step - loss: 0.5514 - RootMeanSquredError: 0.1734 - val_loss: 1.7939 - val_RootMeanSquredError: 1.1452\n",
            "Epoch 18/100\n",
            "49/49 [==============================] - 79s 2s/step - loss: 0.4810 - RootMeanSquredError: 0.1690 - val_loss: 1.5230 - val_RootMeanSquredError: 1.0490\n",
            "Epoch 19/100\n",
            "49/49 [==============================] - 79s 2s/step - loss: 0.4233 - RootMeanSquredError: 0.1677 - val_loss: 1.5551 - val_RootMeanSquredError: 1.0891\n",
            "Epoch 20/100\n",
            "49/49 [==============================] - 79s 2s/step - loss: 0.3799 - RootMeanSquredError: 0.1809 - val_loss: 1.4290 - val_RootMeanSquredError: 1.0491\n",
            "Epoch 21/100\n",
            "49/49 [==============================] - 79s 2s/step - loss: 0.3326 - RootMeanSquredError: 0.1596 - val_loss: 1.4821 - val_RootMeanSquredError: 1.0928\n",
            "Epoch 22/100\n",
            "49/49 [==============================] - 78s 2s/step - loss: 0.2950 - RootMeanSquredError: 0.1514 - val_loss: 1.5237 - val_RootMeanSquredError: 1.1261\n",
            "Epoch 23/100\n",
            "49/49 [==============================] - 78s 2s/step - loss: 0.2653 - RootMeanSquredError: 0.1482 - val_loss: 1.3831 - val_RootMeanSquredError: 1.0742\n",
            "Epoch 24/100\n",
            "49/49 [==============================] - 78s 2s/step - loss: 0.2401 - RootMeanSquredError: 0.1487 - val_loss: 1.4037 - val_RootMeanSquredError: 1.0944\n",
            "Epoch 25/100\n",
            "49/49 [==============================] - 78s 2s/step - loss: 0.2144 - RootMeanSquredError: 0.1335 - val_loss: 1.3395 - val_RootMeanSquredError: 1.0736\n",
            "Epoch 26/100\n",
            "49/49 [==============================] - 79s 2s/step - loss: 0.1942 - RootMeanSquredError: 0.1275 - val_loss: 1.2755 - val_RootMeanSquredError: 1.0517\n",
            "Epoch 27/100\n",
            "49/49 [==============================] - 79s 2s/step - loss: 0.1857 - RootMeanSquredError: 0.1522 - val_loss: 1.2268 - val_RootMeanSquredError: 1.0337\n",
            "Epoch 28/100\n",
            "49/49 [==============================] - 79s 2s/step - loss: 0.1753 - RootMeanSquredError: 0.1596 - val_loss: 1.3109 - val_RootMeanSquredError: 1.0807\n",
            "Epoch 29/100\n",
            "49/49 [==============================] - 78s 2s/step - loss: 0.1539 - RootMeanSquredError: 0.1297 - val_loss: 1.2914 - val_RootMeanSquredError: 1.0778\n",
            "Epoch 30/100\n",
            "49/49 [==============================] - 78s 2s/step - loss: 0.1391 - RootMeanSquredError: 0.1140 - val_loss: 1.2201 - val_RootMeanSquredError: 1.0480\n",
            "Epoch 31/100\n",
            "49/49 [==============================] - 79s 2s/step - loss: 0.1370 - RootMeanSquredError: 0.1389 - val_loss: 1.1622 - val_RootMeanSquredError: 1.0229\n",
            "Epoch 32/100\n",
            "49/49 [==============================] - 79s 2s/step - loss: 0.1322 - RootMeanSquredError: 0.1481 - val_loss: 1.1805 - val_RootMeanSquredError: 1.0365\n",
            "Epoch 33/100\n",
            "49/49 [==============================] - 80s 2s/step - loss: 0.1222 - RootMeanSquredError: 0.1381 - val_loss: 1.1693 - val_RootMeanSquredError: 1.0342\n",
            "Epoch 34/100\n",
            "49/49 [==============================] - 80s 2s/step - loss: 0.1147 - RootMeanSquredError: 0.1317 - val_loss: 1.1706 - val_RootMeanSquredError: 1.0375\n",
            "Epoch 35/100\n",
            "49/49 [==============================] - 79s 2s/step - loss: 0.1167 - RootMeanSquredError: 0.1558 - val_loss: 1.1540 - val_RootMeanSquredError: 1.0313\n",
            "Epoch 36/100\n",
            "49/49 [==============================] - 80s 2s/step - loss: 0.1095 - RootMeanSquredError: 0.1485 - val_loss: 1.1552 - val_RootMeanSquredError: 1.0340\n",
            "Epoch 37/100\n",
            "49/49 [==============================] - 81s 2s/step - loss: 0.0992 - RootMeanSquredError: 0.1268 - val_loss: 1.1721 - val_RootMeanSquredError: 1.0445\n",
            "Epoch 38/100\n",
            "49/49 [==============================] - 81s 2s/step - loss: 0.0927 - RootMeanSquredError: 0.1164 - val_loss: 1.1511 - val_RootMeanSquredError: 1.0364\n",
            "Epoch 39/100\n",
            "49/49 [==============================] - 80s 2s/step - loss: 0.0898 - RootMeanSquredError: 0.1174 - val_loss: 1.1147 - val_RootMeanSquredError: 1.0200\n",
            "Epoch 40/100\n",
            "49/49 [==============================] - 80s 2s/step - loss: 0.0919 - RootMeanSquredError: 0.1374 - val_loss: 1.0138 - val_RootMeanSquredError: 0.9694\n",
            "Epoch 41/100\n",
            "49/49 [==============================] - 81s 2s/step - loss: 0.0908 - RootMeanSquredError: 0.1395 - val_loss: 1.1143 - val_RootMeanSquredError: 1.0220\n",
            "Epoch 42/100\n",
            "49/49 [==============================] - 80s 2s/step - loss: 0.0852 - RootMeanSquredError: 0.1294 - val_loss: 1.1423 - val_RootMeanSquredError: 1.0367\n",
            "Epoch 43/100\n",
            "49/49 [==============================] - 80s 2s/step - loss: 0.0802 - RootMeanSquredError: 0.1185 - val_loss: 1.1060 - val_RootMeanSquredError: 1.0207\n",
            "Epoch 44/100\n",
            "49/49 [==============================] - 74s 2s/step - loss: nan - RootMeanSquredError: 0.6964 - val_loss: nan - val_RootMeanSquredError: 0.7100\n",
            "Epoch 45/100\n",
            "49/49 [==============================] - 69s 1s/step - loss: nan - RootMeanSquredError: 0.7173 - val_loss: nan - val_RootMeanSquredError: 0.7599\n",
            "Epoch 46/100\n",
            "49/49 [==============================] - 70s 1s/step - loss: nan - RootMeanSquredError: 0.7132 - val_loss: nan - val_RootMeanSquredError: 0.7107\n",
            "Epoch 47/100\n",
            "49/49 [==============================] - 69s 1s/step - loss: nan - RootMeanSquredError: 0.7104 - val_loss: nan - val_RootMeanSquredError: 0.7486\n",
            "Epoch 48/100\n",
            "49/49 [==============================] - 69s 1s/step - loss: nan - RootMeanSquredError: 0.7114 - val_loss: nan - val_RootMeanSquredError: 0.7421\n",
            "Epoch 49/100\n",
            "49/49 [==============================] - 68s 1s/step - loss: nan - RootMeanSquredError: 0.7066 - val_loss: nan - val_RootMeanSquredError: 0.7392\n",
            "Epoch 50/100\n",
            "49/49 [==============================] - 69s 1s/step - loss: nan - RootMeanSquredError: 0.7084 - val_loss: nan - val_RootMeanSquredError: 0.7261\n",
            "Epoch 51/100\n",
            "49/49 [==============================] - 69s 1s/step - loss: nan - RootMeanSquredError: 0.7061 - val_loss: nan - val_RootMeanSquredError: 0.7183\n",
            "Epoch 52/100\n",
            "49/49 [==============================] - 68s 1s/step - loss: nan - RootMeanSquredError: 0.7094 - val_loss: nan - val_RootMeanSquredError: 0.7316\n",
            "Epoch 53/100\n",
            "49/49 [==============================] - 69s 1s/step - loss: nan - RootMeanSquredError: 0.7075 - val_loss: nan - val_RootMeanSquredError: 0.7059\n",
            "Epoch 54/100\n",
            "49/49 [==============================] - 68s 1s/step - loss: nan - RootMeanSquredError: 0.7067 - val_loss: nan - val_RootMeanSquredError: 0.7050\n",
            "Epoch 55/100\n",
            "49/49 [==============================] - 68s 1s/step - loss: nan - RootMeanSquredError: 0.7059 - val_loss: nan - val_RootMeanSquredError: 0.7119\n",
            "Epoch 56/100\n",
            "49/49 [==============================] - 67s 1s/step - loss: nan - RootMeanSquredError: 0.7075 - val_loss: nan - val_RootMeanSquredError: 0.7192\n",
            "Epoch 57/100\n",
            "49/49 [==============================] - 67s 1s/step - loss: nan - RootMeanSquredError: 0.7079 - val_loss: nan - val_RootMeanSquredError: 0.7196\n",
            "Epoch 58/100\n",
            "49/49 [==============================] - 67s 1s/step - loss: nan - RootMeanSquredError: 0.7067 - val_loss: nan - val_RootMeanSquredError: 0.7177\n",
            "Epoch 59/100\n",
            "49/49 [==============================] - 69s 1s/step - loss: nan - RootMeanSquredError: 0.7123 - val_loss: nan - val_RootMeanSquredError: 0.7063\n",
            "Epoch 60/100\n",
            "49/49 [==============================] - 69s 1s/step - loss: nan - RootMeanSquredError: 0.7107 - val_loss: nan - val_RootMeanSquredError: 0.7046\n",
            "Epoch 61/100\n",
            "49/49 [==============================] - 68s 1s/step - loss: nan - RootMeanSquredError: 0.7079 - val_loss: nan - val_RootMeanSquredError: 0.7036\n",
            "Epoch 62/100\n",
            "49/49 [==============================] - 69s 1s/step - loss: nan - RootMeanSquredError: 0.7089 - val_loss: nan - val_RootMeanSquredError: 0.7424\n",
            "Epoch 63/100\n",
            "49/49 [==============================] - 69s 1s/step - loss: nan - RootMeanSquredError: 0.7104 - val_loss: nan - val_RootMeanSquredError: 0.6972\n",
            "Epoch 64/100\n",
            "49/49 [==============================] - 69s 1s/step - loss: nan - RootMeanSquredError: 0.7084 - val_loss: nan - val_RootMeanSquredError: 0.7012\n",
            "Epoch 65/100\n",
            "49/49 [==============================] - 68s 1s/step - loss: nan - RootMeanSquredError: 0.7071 - val_loss: nan - val_RootMeanSquredError: 0.7117\n",
            "Epoch 66/100\n",
            "49/49 [==============================] - 67s 1s/step - loss: nan - RootMeanSquredError: 0.7090 - val_loss: nan - val_RootMeanSquredError: 0.7033\n",
            "Epoch 67/100\n",
            "49/49 [==============================] - 67s 1s/step - loss: nan - RootMeanSquredError: 0.7068 - val_loss: nan - val_RootMeanSquredError: 0.6986\n",
            "Epoch 68/100\n",
            "49/49 [==============================] - 68s 1s/step - loss: nan - RootMeanSquredError: 0.7067 - val_loss: nan - val_RootMeanSquredError: 0.7014\n",
            "Epoch 69/100\n",
            "49/49 [==============================] - 68s 1s/step - loss: nan - RootMeanSquredError: 0.7091 - val_loss: nan - val_RootMeanSquredError: 0.7039\n",
            "Epoch 70/100\n",
            "49/49 [==============================] - 67s 1s/step - loss: nan - RootMeanSquredError: 0.7049 - val_loss: nan - val_RootMeanSquredError: 0.7055\n",
            "Epoch 71/100\n",
            "49/49 [==============================] - 67s 1s/step - loss: nan - RootMeanSquredError: 0.7093 - val_loss: nan - val_RootMeanSquredError: 0.7081\n",
            "Epoch 72/100\n",
            "49/49 [==============================] - 67s 1s/step - loss: nan - RootMeanSquredError: 0.7061 - val_loss: nan - val_RootMeanSquredError: 0.7022\n",
            "Epoch 73/100\n",
            "49/49 [==============================] - 68s 1s/step - loss: nan - RootMeanSquredError: 0.7070 - val_loss: nan - val_RootMeanSquredError: 0.7167\n",
            "Epoch 74/100\n",
            "49/49 [==============================] - 67s 1s/step - loss: nan - RootMeanSquredError: 0.7022 - val_loss: nan - val_RootMeanSquredError: 0.6996\n",
            "Epoch 75/100\n",
            "49/49 [==============================] - 67s 1s/step - loss: nan - RootMeanSquredError: 0.7078 - val_loss: nan - val_RootMeanSquredError: 0.7029\n",
            "Epoch 76/100\n",
            "49/49 [==============================] - 67s 1s/step - loss: nan - RootMeanSquredError: 0.7070 - val_loss: nan - val_RootMeanSquredError: 0.7039\n",
            "Epoch 77/100\n",
            "49/49 [==============================] - 67s 1s/step - loss: nan - RootMeanSquredError: 0.7085 - val_loss: nan - val_RootMeanSquredError: 0.7140\n",
            "Epoch 78/100\n",
            "49/49 [==============================] - 67s 1s/step - loss: nan - RootMeanSquredError: 0.7086 - val_loss: nan - val_RootMeanSquredError: 0.6963\n",
            "Epoch 79/100\n",
            "49/49 [==============================] - 67s 1s/step - loss: nan - RootMeanSquredError: 0.7074 - val_loss: nan - val_RootMeanSquredError: 0.6975\n",
            "Epoch 80/100\n",
            "49/49 [==============================] - 67s 1s/step - loss: nan - RootMeanSquredError: 0.7094 - val_loss: nan - val_RootMeanSquredError: 0.7048\n",
            "Epoch 81/100\n",
            "49/49 [==============================] - 67s 1s/step - loss: nan - RootMeanSquredError: 0.7096 - val_loss: nan - val_RootMeanSquredError: 0.6965\n",
            "Epoch 82/100\n",
            "49/49 [==============================] - 68s 1s/step - loss: nan - RootMeanSquredError: 0.7074 - val_loss: nan - val_RootMeanSquredError: 0.7325\n",
            "Epoch 83/100\n",
            "49/49 [==============================] - 68s 1s/step - loss: nan - RootMeanSquredError: 0.7093 - val_loss: nan - val_RootMeanSquredError: 0.7076\n",
            "Epoch 84/100\n",
            "49/49 [==============================] - 69s 1s/step - loss: nan - RootMeanSquredError: 0.7080 - val_loss: nan - val_RootMeanSquredError: 0.7035\n",
            "Epoch 85/100\n",
            "49/49 [==============================] - 69s 1s/step - loss: nan - RootMeanSquredError: 0.7045 - val_loss: nan - val_RootMeanSquredError: 0.7008\n",
            "Epoch 86/100\n",
            "49/49 [==============================] - 68s 1s/step - loss: nan - RootMeanSquredError: 0.7075 - val_loss: nan - val_RootMeanSquredError: 0.7031\n",
            "Epoch 87/100\n",
            "49/49 [==============================] - 69s 1s/step - loss: nan - RootMeanSquredError: 0.7070 - val_loss: nan - val_RootMeanSquredError: 0.7038\n",
            "Epoch 88/100\n",
            "49/49 [==============================] - 69s 1s/step - loss: nan - RootMeanSquredError: 0.7062 - val_loss: nan - val_RootMeanSquredError: 0.6963\n",
            "Epoch 89/100\n",
            "49/49 [==============================] - 69s 1s/step - loss: nan - RootMeanSquredError: 0.7085 - val_loss: nan - val_RootMeanSquredError: 0.7000\n",
            "Epoch 90/100\n",
            "49/49 [==============================] - 69s 1s/step - loss: nan - RootMeanSquredError: 0.7046 - val_loss: nan - val_RootMeanSquredError: 0.7094\n",
            "Epoch 91/100\n",
            "49/49 [==============================] - 69s 1s/step - loss: nan - RootMeanSquredError: 0.7055 - val_loss: nan - val_RootMeanSquredError: 0.7034\n",
            "Epoch 92/100\n",
            "49/49 [==============================] - 68s 1s/step - loss: nan - RootMeanSquredError: 0.7077 - val_loss: nan - val_RootMeanSquredError: 0.7070\n",
            "Epoch 93/100\n",
            "49/49 [==============================] - 67s 1s/step - loss: nan - RootMeanSquredError: 0.7081 - val_loss: nan - val_RootMeanSquredError: 0.7210\n",
            "Epoch 94/100\n",
            "49/49 [==============================] - 67s 1s/step - loss: nan - RootMeanSquredError: 0.7053 - val_loss: nan - val_RootMeanSquredError: 0.6984\n",
            "Epoch 95/100\n",
            "49/49 [==============================] - 67s 1s/step - loss: nan - RootMeanSquredError: 0.7108 - val_loss: nan - val_RootMeanSquredError: 0.6963\n",
            "Epoch 96/100\n",
            "49/49 [==============================] - 67s 1s/step - loss: nan - RootMeanSquredError: 0.7075 - val_loss: nan - val_RootMeanSquredError: 0.6965\n",
            "Epoch 97/100\n",
            "49/49 [==============================] - 67s 1s/step - loss: nan - RootMeanSquredError: 0.7072 - val_loss: nan - val_RootMeanSquredError: 0.6984\n",
            "Epoch 98/100\n",
            "49/49 [==============================] - 68s 1s/step - loss: nan - RootMeanSquredError: 0.7083 - val_loss: nan - val_RootMeanSquredError: 0.6980\n",
            "Epoch 99/100\n",
            "49/49 [==============================] - 69s 1s/step - loss: nan - RootMeanSquredError: 0.7054 - val_loss: nan - val_RootMeanSquredError: 0.6977\n",
            "Epoch 100/100\n",
            "49/49 [==============================] - 69s 1s/step - loss: nan - RootMeanSquredError: 0.7057 - val_loss: nan - val_RootMeanSquredError: 0.6988\n"
          ]
        }
      ],
      "source": [
        "tf.random.set_seed(2342)\n",
        "\n",
        "# fit the LSTM model for vocabulary\n",
        "vocab_lstm_model = build_lstm_model(X_train_seq)\n",
        "\n",
        "vocab_lstm_history = vocab_lstm_model.fit(X_train_seq, \n",
        "                                          y_train['vocabulary'], \n",
        "                                          batch_size=64, \n",
        "                                          epochs=100,\n",
        "                                          validation_data = [X_test_seq, y_test['vocabulary']])\n",
        "\n",
        "# fit the LSTM model for grammar\n",
        "grammar_lstm_model = build_lstm_model(X_train_seq)\n",
        "\n",
        "grammar_lstm_history = grammar_lstm_model.fit(X_train_seq, \n",
        "                                              y_train['grammar'], \n",
        "                                              batch_size=64, \n",
        "                                              epochs=100,\n",
        "                                              validation_data = [X_test_seq, y_test['grammar']])\n"
      ]
    },
    {
      "cell_type": "code",
      "execution_count": null,
      "metadata": {
        "id": "hQsb2CQaxTGm",
        "outputId": "7a02e730-ba7b-4355-e2b7-c1ed8e2d069a"
      },
      "outputs": [
        {
          "name": "stdout",
          "output_type": "stream",
          "text": [
            "25/25 [==============================] - 5s 191ms/step\n",
            "25/25 [==============================] - 5s 188ms/step\n",
            "RMSE for LSTM NN (vocabulary): 0.3294834529356595\n",
            "RMSE for LSTM NN (grammar): 0.488301254208074\n"
          ]
        }
      ],
      "source": [
        "vocab_pred, grammar_pred = vocab_lstm_model.predict(X_test_seq).flatten(), grammar_lstm_model.predict(X_test_seq).flatten()\n",
        "\n",
        "lstm_predictions = pd.DataFrame(list(zip(vocab_pred, grammar_pred)), columns=['vocabulary', 'grammar'])\n",
        "\n",
        "lstm_root_mean_squared_error = rmse(y_test, lstm_predictions)\n",
        "\n",
        "print(f'''RMSE for LSTM NN (vocabulary): {rmse(y_test['vocabulary'], lstm_predictions['vocabulary'])}''')\n",
        "\n",
        "print(f'''RMSE for LSTM NN (grammar): {rmse(y_test['grammar'], lstm_predictions['grammar'])}''')\n",
        "\n"
      ]
    },
    {
      "cell_type": "code",
      "execution_count": null,
      "metadata": {
        "id": "SKPtQCpmxTGm",
        "outputId": "585e0dd0-c254-41b8-9c44-61d620d8198a"
      },
      "outputs": [
        {
          "name": "stdout",
          "output_type": "stream",
          "text": [
            "AxesSubplot(0.125,0.11;0.775x0.77)\n",
            "AxesSubplot(0.125,0.11;0.775x0.77)\n"
          ]
        },
        {
          "data": {
            "image/png": "[encoded data removed]",
            "text/plain": [
              "<Figure size 640x480 with 1 Axes>"
            ]
          },
          "metadata": {},
          "output_type": "display_data"
        },
        {
          "data": {
            "image/png": "[encoded data removed]",
            "text/plain": [
              "<Figure size 640x480 with 1 Axes>"
            ]
          },
          "metadata": {},
          "output_type": "display_data"
        }
      ],
      "source": [
        "vocab_lstm_history_df = pd.DataFrame(vocab_lstm_history.history)\n",
        "grammar_lstm_history_df = pd.DataFrame(grammar_lstm_history.history)\n",
        "\n",
        "vocab_lstm_history_df\n",
        "\n",
        "print(vocab_lstm_history_df.loc[:,['RootMeanSquredError','val_RootMeanSquredError']].plot(title='Vocabulary (LSTM)', xlabel='Epoch', ylabel='RMSE'))\n",
        "print(grammar_lstm_history_df.loc[:,['RootMeanSquredError','val_RootMeanSquredError']].plot(title='Grammar (LSTM)', xlabel='Epoch', ylabel='RMSE'))"
      ]
    },
    {
      "cell_type": "markdown",
      "metadata": {
        "id": "zxUA9unLxTGm"
      },
      "source": [
        "### 5d. XGBoost"
      ]
    },
    {
      "cell_type": "code",
      "execution_count": null,
      "metadata": {
        "id": "VGJvIGiKxTGm"
      },
      "outputs": [],
      "source": [
        "# !pip3 install xgboost\n",
        "import xgboost as xg\n",
        "from sklearn.metrics import mean_squared_error as MSE"
      ]
    },
    {
      "cell_type": "code",
      "execution_count": null,
      "metadata": {
        "id": "bBIGi69LxTGm"
      },
      "outputs": [],
      "source": [
        "def xgboost_syntax(y_choice, x_train, x_test, m):\n",
        "    model = tf.keras.models.Model(\n",
        "    m.input, \n",
        "    m.get_layer('predictions').output\n",
        "    )\n",
        "    if y_choice=='grammar':\n",
        "        data_y_train = y_train['grammar']\n",
        "        data_y_test = y_test['grammar']\n",
        "    elif y_choice=='vocabulary':\n",
        "        data_y_train = y_train['vocabulary']\n",
        "        data_y_test = y_test['vocabulary']\n",
        "    X_train_features = model.predict(x_train)\n",
        "    X_test_features = model.predict(x_test)\n",
        "    xgb = xg.XGBRegressor(objective ='reg:squarederror',n_estimators = 100)\n",
        "    xgb.fit(X_train_features, data_y_train)\n",
        "    y_pred = xgb.predict(X_test_features)\n",
        "    loss_metrics = MSE(data_y_test, y_pred)\n",
        "    return [y_pred, data_y_test, loss_metrics, ]"
      ]
    },
    {
      "cell_type": "code",
      "execution_count": null,
      "metadata": {
        "id": "btQSIwwDxTGm",
        "outputId": "b142ae1f-22ae-4705-b720-9d0ce2ea8625"
      },
      "outputs": [
        {
          "name": "stderr",
          "output_type": "stream",
          "text": [
            "2022-12-08 15:34:50.584409: I tensorflow/core/grappler/optimizers/custom_graph_optimizer_registry.cc:114] Plugin optimizer for device_type GPU is enabled.\n",
            "2022-12-08 15:34:50.707978: I tensorflow/core/grappler/optimizers/custom_graph_optimizer_registry.cc:114] Plugin optimizer for device_type GPU is enabled.\n",
            "2022-12-08 15:34:50.730944: I tensorflow/core/grappler/optimizers/custom_graph_optimizer_registry.cc:114] Plugin optimizer for device_type GPU is enabled.\n"
          ]
        },
        {
          "name": "stdout",
          "output_type": "stream",
          "text": [
            "98/98 [==============================] - 24s 213ms/step\n",
            "25/25 [==============================] - 7s 272ms/step\n"
          ]
        }
      ],
      "source": [
        "[y_pred, y_true, loss_metrics1] = xgboost_syntax('vocabulary', X_train_seq, X_test_seq, vocab_lstm_model)"
      ]
    },
    {
      "cell_type": "code",
      "execution_count": null,
      "metadata": {
        "id": "Mt2LPHXLxTGm",
        "outputId": "adf7596f-e134-4722-fe52-139558afabb8"
      },
      "outputs": [
        {
          "name": "stdout",
          "output_type": "stream",
          "text": [
            "The root mean squared error for XGBooster in Vocabulary is:  0.5745763928203409\n"
          ]
        }
      ],
      "source": [
        "print(\"The root mean squared error for XGBooster in Vocabulary is: \",np.sqrt(loss_metrics1))"
      ]
    },
    {
      "cell_type": "code",
      "execution_count": null,
      "metadata": {
        "id": "-YB4oC-KxTGm",
        "outputId": "7aec3113-9ca9-45a9-a9ca-d31eadbfa1a9"
      },
      "outputs": [
        {
          "name": "stderr",
          "output_type": "stream",
          "text": [
            "2022-12-08 15:38:27.715608: I tensorflow/core/grappler/optimizers/custom_graph_optimizer_registry.cc:114] Plugin optimizer for device_type GPU is enabled.\n",
            "2022-12-08 15:38:27.834943: I tensorflow/core/grappler/optimizers/custom_graph_optimizer_registry.cc:114] Plugin optimizer for device_type GPU is enabled.\n",
            "2022-12-08 15:38:27.857804: I tensorflow/core/grappler/optimizers/custom_graph_optimizer_registry.cc:114] Plugin optimizer for device_type GPU is enabled.\n"
          ]
        },
        {
          "name": "stdout",
          "output_type": "stream",
          "text": [
            "98/98 [==============================] - 23s 211ms/step\n",
            "25/25 [==============================] - 7s 276ms/step\n"
          ]
        }
      ],
      "source": [
        "[y_pred, y_true, loss_metrics2] = xgboost_syntax('grammar', X_train_seq, X_test_seq, grammar_lstm_model)"
      ]
    },
    {
      "cell_type": "code",
      "execution_count": null,
      "metadata": {
        "id": "raurUAYGxTGm",
        "outputId": "26ca005c-9687-4bd1-8964-ccbd7cbbe4de"
      },
      "outputs": [
        {
          "name": "stdout",
          "output_type": "stream",
          "text": [
            "The mean squared error for XGBooster in Grammar is:  0.6962841007596388\n"
          ]
        }
      ],
      "source": [
        "print(\"The mean squared error for XGBooster in Grammar is: \", np.sqrt(loss_metrics2))"
      ]
    },
    {
      "cell_type": "markdown",
      "metadata": {
        "id": "UkCV71-rxTGm"
      },
      "source": [
        "### 5e. Linear Regression"
      ]
    },
    {
      "cell_type": "code",
      "execution_count": null,
      "metadata": {
        "id": "NevITu5vxTGm"
      },
      "outputs": [],
      "source": [
        "from sklearn.linear_model import LinearRegression\n",
        "\n",
        "linear_model = LinearRegression()\n",
        "linear_model.fit(X_train, y_train)\n",
        "\n",
        "score = linear_model.score(X_train, y_train)\n",
        "y_pred_ols = linear_model.predict(X_test)\n",
        "root_mean_square_error = rmse(y_test, y_pred_ols)\n",
        "root_mean_square_error_vocab = rmse(y_test['vocabulary'], y_pred_ols[:,0])\n",
        "root_mean_square_error_grammar = rmse(y_test['grammar'], y_pred_ols[:,1])"
      ]
    },
    {
      "cell_type": "code",
      "execution_count": null,
      "metadata": {
        "id": "uR1cQU8LxTGn",
        "outputId": "db4683f1-68c8-4d9d-da4b-d35c0e5a1a82"
      },
      "outputs": [
        {
          "name": "stdout",
          "output_type": "stream",
          "text": [
            "Linear regression: predictions using the test set:\n",
            " [[3.31147635 3.33054414]\n",
            " [2.41467086 3.2337112 ]\n",
            " [2.83047203 2.08413721]\n",
            " ...\n",
            " [2.62188447 3.17155094]\n",
            " [3.57416135 2.64690728]\n",
            " [3.09890913 2.83082548]]\n"
          ]
        }
      ],
      "source": [
        "print(\"Linear regression: predictions using the test set:\\n\", y_pred_ols)"
      ]
    },
    {
      "cell_type": "code",
      "execution_count": null,
      "metadata": {
        "id": "GUQ5VgURxTGn",
        "outputId": "f863d2d9-eb53-444d-a0e7-c08177ae4731"
      },
      "outputs": [
        {
          "name": "stdout",
          "output_type": "stream",
          "text": [
            "RMSE for linear regression:  0.758652510760916\n",
            "RMSE for linear regression(vocabulary):  0.5332876338886128\n",
            "RMSE for linear regression(grammar):  0.9840173876332193\n"
          ]
        }
      ],
      "source": [
        "print(\"RMSE for linear regression: \", root_mean_square_error)\n",
        "print(\"RMSE for linear regression(vocabulary): \", root_mean_square_error_vocab)\n",
        "print(\"RMSE for linear regression(grammar): \", root_mean_square_error_grammar)"
      ]
    },
    {
      "cell_type": "markdown",
      "metadata": {
        "id": "Woc1AQn6xTGn"
      },
      "source": [
        "### 5f. Ridge Regression"
      ]
    },
    {
      "cell_type": "code",
      "execution_count": 18,
      "metadata": {
        "id": "EVnGTawbxTGn"
      },
      "outputs": [
        {
          "name": "stdout",
          "output_type": "stream",
          "text": [
            "0.32335724638776175\n",
            "alpha: {'alpha': 6}\n"
          ]
        }
      ],
      "source": [
        "from sklearn.linear_model import Ridge\n",
        "from sklearn.model_selection import GridSearchCV\n",
        "\n",
        "# look for approriate alpha\n",
        "ridge = Ridge(normalize = True)\n",
        "search = GridSearchCV(estimator=ridge, param_grid={'alpha': list(range(-5, 15))}, scoring='neg_mean_squared_error', n_jobs=1, refit=True, cv=10)\n",
        "search.fit(X_train, y_train)\n",
        "alpha = search.best_params_\n",
        "print(abs(search.best_score_))\n",
        "\n",
        "print(f'alpha: {alpha}')"
      ]
    },
    {
      "cell_type": "code",
      "execution_count": 19,
      "metadata": {
        "id": "vlMdAJcaxTGn"
      },
      "outputs": [],
      "source": [
        "ridge_model = Ridge(normalize=True, alpha=6)\n",
        "ridge_model.fit(X_train, y_train)\n",
        "y_pred_ridge = ridge_model.predict(X_test)\n"
      ]
    },
    {
      "cell_type": "code",
      "execution_count": 20,
      "metadata": {
        "id": "HCX24TnMxTGn",
        "outputId": "c121c397-d3c7-4634-ccd9-d9bc25dfcfab"
      },
      "outputs": [
        {
          "name": "stdout",
          "output_type": "stream",
          "text": [
            "Ridge regression: predictions using the test set:\n",
            " [[2.96062717 2.75022613]\n",
            " [3.16598011 2.98318606]\n",
            " [3.15249902 3.05103537]\n",
            " ...\n",
            " [3.10696213 2.98352455]\n",
            " [3.52339585 3.3553581 ]\n",
            " [3.1388176  2.75981097]]\n"
          ]
        }
      ],
      "source": [
        "print(\"Ridge regression: predictions using the test set:\\n\", y_pred_ridge)"
      ]
    },
    {
      "cell_type": "code",
      "execution_count": 21,
      "metadata": {
        "id": "vPBpp7urxTGn",
        "outputId": "93fccc9d-f795-47b9-8187-224aee4a1e75"
      },
      "outputs": [
        {
          "name": "stdout",
          "output_type": "stream",
          "text": [
            "RMSE for ridge regression:  0.3279071970406682\n",
            "RMSE for ridge regression(vocabulary):  0.2576990216009217\n",
            "RMSE for ridge regression(grammar):  0.39811537248041484\n"
          ]
        }
      ],
      "source": [
        "root_mean_square_error = rmse(y_test, y_pred_ridge)  \n",
        "root_mean_square_error_vocab = rmse(y_test['vocabulary'], y_pred_ridge[:,0])\n",
        "root_mean_square_error_grammar = rmse(y_test['grammar'], y_pred_ridge[:,1])\n",
        "\n",
        "print(\"RMSE for ridge regression: \", root_mean_square_error)\n",
        "print(\"RMSE for ridge regression(vocabulary): \", root_mean_square_error_vocab)\n",
        "print(\"RMSE for ridge regression(grammar): \", root_mean_square_error_grammar)"
      ]
    },
    {
      "cell_type": "markdown",
      "metadata": {
        "id": "4xNh0PuKxTGn"
      },
      "source": [
        "Lasso Regression"
      ]
    },
    {
      "cell_type": "code",
      "execution_count": null,
      "metadata": {
        "id": "nSgLJlYWxTGn"
      },
      "outputs": [],
      "source": [
        "from sklearn.linear_model import Lasso\n",
        "params = {'alpha': (np.logspace(-5, 5, 10))} # It will check from 1e-08 to 1e+08\n",
        "lasso = Lasso(normalize=True)\n",
        "lasso_model = GridSearchCV(lasso, params, cv = 10)\n",
        "lasso_model.fit(X_train, y_train)\n",
        "print(lasso_model.best_params_)\n",
        "print(lasso_model.best_score_)"
      ]
    },
    {
      "cell_type": "code",
      "execution_count": 8,
      "metadata": {
        "colab": {
          "base_uri": "https://localhost:8080/"
        },
        "id": "sOPf3LTexTGn",
        "outputId": "1786845c-2fd9-4d88-e511-7c1c8f53a2f9"
      },
      "outputs": [
        {
          "name": "stdout",
          "output_type": "stream",
          "text": [
            "[[3.24152813 3.01733163]\n",
            " [3.24152813 3.02022318]\n",
            " [3.24152813 3.02322674]\n",
            " ...\n",
            " [3.24152813 3.02892452]\n",
            " [3.24152813 3.04256846]\n",
            " [3.24152813 3.01775194]]\n"
          ]
        }
      ],
      "source": [
        "from sklearn.linear_model import Lasso\n",
        "Lasso_model = Lasso(normalize=True, alpha = 0.00166810)\n",
        "Lasso_model.fit(X_train, y_train)\n",
        "y_pred_lasso = Lasso_model.predict(X_test)\n",
        "print(y_pred_lasso)"
      ]
    },
    {
      "cell_type": "code",
      "execution_count": 9,
      "metadata": {
        "id": "N3GO7omGxTGn"
      },
      "outputs": [],
      "source": [
        "root_mean_square_error_lasso = rmse(y_test, y_pred_lasso)  \n",
        "root_mean_square_error_vocab_lasso = rmse(y_test['vocabulary'], y_pred_lasso[:,0])\n",
        "root_mean_square_error_grammar_lasso = rmse(y_test['grammar'], y_pred_lasso[:,1])"
      ]
    },
    {
      "cell_type": "code",
      "execution_count": 10,
      "metadata": {
        "colab": {
          "base_uri": "https://localhost:8080/"
        },
        "id": "_g1vSDW2xTGn",
        "outputId": "2349b776-73a2-4001-bd4a-0767be84ebd8"
      },
      "outputs": [
        {
          "name": "stdout",
          "output_type": "stream",
          "text": [
            "RMSE for ridge regression:  0.404337192395104\n",
            "RMSE for ridge regression(vocabulary):  0.3301380506660378\n",
            "RMSE for ridge regression(grammar):  0.47853633412416746\n"
          ]
        }
      ],
      "source": [
        "print(\"RMSE for ridge regression: \", root_mean_square_error_lasso)\n",
        "print(\"RMSE for ridge regression(vocabulary): \", root_mean_square_error_vocab_lasso)\n",
        "print(\"RMSE for ridge regression(grammar): \", root_mean_square_error_grammar_lasso)"
      ]
    },
    {
      "cell_type": "markdown",
      "metadata": {
        "id": "ZVHmlX7txTGn"
      },
      "source": []
    }
  ],
  "metadata": {
    "accelerator": "GPU",
    "colab": {
      "collapsed_sections": [
        "sNFhLXnTxTGk",
        "A68C19NHxTGl",
        "zxUA9unLxTGm"
      ],
      "provenance": []
    },
    "gpuClass": "standard",
    "kernelspec": {
      "display_name": "Python 3.10.5 64-bit",
      "language": "python",
      "name": "python3"
    },
    "language_info": {
      "codemirror_mode": {
        "name": "ipython",
        "version": 3
      },
      "file_extension": ".py",
      "mimetype": "text/x-python",
      "name": "python",
      "nbconvert_exporter": "python",
      "pygments_lexer": "ipython3",
      "version": "3.10.5"
    },
    "orig_nbformat": 4,
    "vscode": {
      "interpreter": {
        "hash": "aee8b7b246df8f9039afb4144a1f6fd8d2ca17a180786b69acc140d282b71a49"
      }
    }
  },
  "nbformat": 4,
  "nbformat_minor": 0
}
